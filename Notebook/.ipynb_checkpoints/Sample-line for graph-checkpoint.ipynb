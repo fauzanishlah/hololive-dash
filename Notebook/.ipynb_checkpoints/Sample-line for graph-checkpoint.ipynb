{
 "cells": [
  {
   "cell_type": "code",
   "execution_count": 1,
   "id": "7c51e940",
   "metadata": {},
   "outputs": [],
   "source": [
    "import pandas as pd\n",
    "import plotly.graph_objects as go\n",
    "import plotly.express as px"
   ]
  },
  {
   "cell_type": "code",
   "execution_count": 2,
   "id": "966ffad1",
   "metadata": {},
   "outputs": [],
   "source": [
    "file = 'hololive.csv'\n",
    "channel = pd.read_csv(file)"
   ]
  },
  {
   "cell_type": "code",
   "execution_count": 21,
   "id": "779430cf",
   "metadata": {},
   "outputs": [
    {
     "data": {
      "application/vnd.plotly.v1+json": {
       "config": {
        "plotlyServerURL": "https://plot.ly"
       },
       "data": [
        {
         "branchvalues": "total",
         "customdata": [
          [
           530000
          ],
          [
           481000
          ],
          [
           1290000
          ],
          [
           602000
          ],
          [
           1070000
          ],
          [
           400000
          ],
          [
           559000
          ],
          [
           349000
          ],
          [
           3550000
          ],
          [
           348000
          ],
          [
           723000
          ],
          [
           1200000
          ],
          [
           1680000
          ],
          [
           696000
          ],
          [
           1710000
          ],
          [
           1440000
          ],
          [
           876000
          ],
          [
           1420000
          ],
          [
           806000
          ],
          [
           910000
          ],
          [
           1770000
          ],
          [
           904000
          ],
          [
           1160000
          ],
          [
           415000
          ],
          [
           1150000
          ],
          [
           1230000
          ],
          [
           1260000
          ],
          [
           855000
          ],
          [
           879000
          ],
          [
           1170000
          ],
          [
           519000
          ],
          [
           511000
          ],
          [
           765000
          ],
          [
           1270000
          ],
          [
           1660000
          ],
          [
           794000
          ],
          [
           1340000
          ],
          [
           1010000
          ],
          [
           1240000
          ],
          [
           880000
          ],
          [
           847000
          ],
          [
           219000
          ],
          [
           1090000
          ],
          [
           1450000
          ],
          [
           1760000
          ],
          [
           1510000
          ],
          [
           631000
          ],
          [
           848000
          ],
          [
           758000
          ],
          [
           "(?)"
          ],
          [
           "(?)"
          ],
          [
           696000
          ],
          [
           "(?)"
          ],
          [
           "(?)"
          ],
          [
           "(?)"
          ],
          [
           "(?)"
          ],
          [
           "(?)"
          ],
          [
           "(?)"
          ],
          [
           "(?)"
          ],
          [
           "(?)"
          ],
          [
           "(?)"
          ],
          [
           "(?)"
          ],
          [
           "(?)"
          ],
          [
           "(?)"
          ],
          [
           "(?)"
          ]
         ],
         "domain": {
          "x": [
           0,
           1
          ],
          "y": [
           0,
           1
          ]
         },
         "hovertemplate": "<i>Price</i>: $%{y:.2f}",
         "ids": [
          "all/JP/JP-0/AZKi",
          "all/ID/ID-1/Airani Iofifteen",
          "all/JP/JP-1/Akai Haato",
          "all/JP/JP-1/Aki Rosenthal",
          "all/JP/JP-4/Amane Kanata",
          "all/ID/ID-2/Anya Melfissa",
          "all/ID/ID-1/Ayunda Risu",
          "all/EN/EN-2/Ceres Fauna",
          "all/EN/EN-1/Gawr Gura",
          "all/EN/EN-2/Hakos Baelz",
          "all/JP/JP-4/Himemori Luna",
          "all/JP/JP-0/Hoshimachi Suisei",
          "all/JP/JP-3/Houshou Marine",
          "all/EN/HOPE/IRyS",
          "all/JP/JP-GAMER/Inugami Korone",
          "all/JP/JP-4/Kiryu Coco",
          "all/ID/ID-2/Kureiji Ollie",
          "all/JP/JP-2/Minato Aqua",
          "all/JP/JP-5/Momosuzu Nene",
          "all/ID/ID-1/Moona Hoshinova",
          "all/EN/EN-1/Mori Calliope",
          "all/JP/JP-2/Murasaki Shion",
          "all/JP/JP-2/Nakiri Ayame",
          "all/EN/EN-2/Nanashi Mumei",
          "all/JP/JP-1/Natsuiro Matsuri",
          "all/JP/JP-GAMER/Nekomata Okayu",
          "all/EN/EN-1/Ninomae Ina'nis ",
          "all/JP/JP-5/Omaru Polka",
          "all/JP/JP-GAMER/Ookami Mio",
          "all/JP/JP-2/Oozora Subaru",
          "all/EN/EN-2/Ouro Kronii",
          "all/ID/ID-2/Pavolia Reine",
          "all/JP/JP-0/Roboco-san",
          "all/JP/JP-0/Sakura Miko",
          "all/JP/JP-1/Shirakami Fubuki",
          "all/JP/JP-3/Shiranui Flare",
          "all/JP/JP-3/Shirogane Noel",
          "all/JP/JP-5/Shishiro Botan",
          "all/EN/EN-1/Takanashi Kiara",
          "all/JP/JP-0/Tokino Sora",
          "all/JP/JP-4/Tokoyami Towa",
          "all/EN/EN-2/Tsukumo Sana",
          "all/JP/JP-4/Tsunamaki Watame",
          "all/JP/JP-3/Uruha Rushia",
          "all/JP/JP-3/Usada Pekora",
          "all/EN/EN-1/Watson Amelia",
          "all/JP/JP-1/Yozora Mel",
          "all/JP/JP-5/Yukihana Lamy",
          "all/JP/JP-2/Yuzuki Choco",
          "all/EN/EN-1",
          "all/EN/EN-2",
          "all/EN/HOPE",
          "all/ID/ID-1",
          "all/ID/ID-2",
          "all/JP/JP-0",
          "all/JP/JP-1",
          "all/JP/JP-2",
          "all/JP/JP-3",
          "all/JP/JP-4",
          "all/JP/JP-5",
          "all/JP/JP-GAMER",
          "all/EN",
          "all/ID",
          "all/JP",
          "all"
         ],
         "labels": [
          "AZKi",
          "Airani Iofifteen",
          "Akai Haato",
          "Aki Rosenthal",
          "Amane Kanata",
          "Anya Melfissa",
          "Ayunda Risu",
          "Ceres Fauna",
          "Gawr Gura",
          "Hakos Baelz",
          "Himemori Luna",
          "Hoshimachi Suisei",
          "Houshou Marine",
          "IRyS",
          "Inugami Korone",
          "Kiryu Coco",
          "Kureiji Ollie",
          "Minato Aqua",
          "Momosuzu Nene",
          "Moona Hoshinova",
          "Mori Calliope",
          "Murasaki Shion",
          "Nakiri Ayame",
          "Nanashi Mumei",
          "Natsuiro Matsuri",
          "Nekomata Okayu",
          "Ninomae Ina'nis ",
          "Omaru Polka",
          "Ookami Mio",
          "Oozora Subaru",
          "Ouro Kronii",
          "Pavolia Reine",
          "Roboco-san",
          "Sakura Miko",
          "Shirakami Fubuki",
          "Shiranui Flare",
          "Shirogane Noel",
          "Shishiro Botan",
          "Takanashi Kiara",
          "Tokino Sora",
          "Tokoyami Towa",
          "Tsukumo Sana",
          "Tsunamaki Watame",
          "Uruha Rushia",
          "Usada Pekora",
          "Watson Amelia",
          "Yozora Mel",
          "Yukihana Lamy",
          "Yuzuki Choco",
          "EN-1",
          "EN-2",
          "HOPE",
          "ID-1",
          "ID-2",
          "JP-0",
          "JP-1",
          "JP-2",
          "JP-3",
          "JP-4",
          "JP-5",
          "JP-GAMER",
          "EN",
          "ID",
          "JP",
          "all"
         ],
         "name": "",
         "parents": [
          "all/JP/JP-0",
          "all/ID/ID-1",
          "all/JP/JP-1",
          "all/JP/JP-1",
          "all/JP/JP-4",
          "all/ID/ID-2",
          "all/ID/ID-1",
          "all/EN/EN-2",
          "all/EN/EN-1",
          "all/EN/EN-2",
          "all/JP/JP-4",
          "all/JP/JP-0",
          "all/JP/JP-3",
          "all/EN/HOPE",
          "all/JP/JP-GAMER",
          "all/JP/JP-4",
          "all/ID/ID-2",
          "all/JP/JP-2",
          "all/JP/JP-5",
          "all/ID/ID-1",
          "all/EN/EN-1",
          "all/JP/JP-2",
          "all/JP/JP-2",
          "all/EN/EN-2",
          "all/JP/JP-1",
          "all/JP/JP-GAMER",
          "all/EN/EN-1",
          "all/JP/JP-5",
          "all/JP/JP-GAMER",
          "all/JP/JP-2",
          "all/EN/EN-2",
          "all/ID/ID-2",
          "all/JP/JP-0",
          "all/JP/JP-0",
          "all/JP/JP-1",
          "all/JP/JP-3",
          "all/JP/JP-3",
          "all/JP/JP-5",
          "all/EN/EN-1",
          "all/JP/JP-0",
          "all/JP/JP-4",
          "all/EN/EN-2",
          "all/JP/JP-4",
          "all/JP/JP-3",
          "all/JP/JP-3",
          "all/EN/EN-1",
          "all/JP/JP-1",
          "all/JP/JP-5",
          "all/JP/JP-2",
          "all/EN",
          "all/EN",
          "all/EN",
          "all/ID",
          "all/ID",
          "all/JP",
          "all/JP",
          "all/JP",
          "all/JP",
          "all/JP",
          "all/JP",
          "all/JP",
          "all",
          "all",
          "all",
          ""
         ],
         "root": {
          "color": "lightgrey"
         },
         "tiling": {
          "orientation": "v"
         },
         "type": "icicle",
         "values": [
          1,
          1,
          1,
          1,
          1,
          1,
          1,
          1,
          1,
          1,
          1,
          1,
          1,
          1,
          1,
          1,
          1,
          1,
          1,
          1,
          1,
          1,
          1,
          1,
          1,
          1,
          1,
          1,
          1,
          1,
          1,
          1,
          1,
          1,
          1,
          1,
          1,
          1,
          1,
          1,
          1,
          1,
          1,
          1,
          1,
          1,
          1,
          1,
          1,
          5,
          5,
          1,
          3,
          3,
          5,
          5,
          5,
          5,
          5,
          4,
          3,
          11,
          6,
          32,
          49
         ]
        }
       ],
       "layout": {
        "legend": {
         "tracegroupgap": 0
        },
        "margin": {
         "t": 60
        },
        "template": {
         "data": {
          "bar": [
           {
            "error_x": {
             "color": "#2a3f5f"
            },
            "error_y": {
             "color": "#2a3f5f"
            },
            "marker": {
             "line": {
              "color": "#E5ECF6",
              "width": 0.5
             },
             "pattern": {
              "fillmode": "overlay",
              "size": 10,
              "solidity": 0.2
             }
            },
            "type": "bar"
           }
          ],
          "barpolar": [
           {
            "marker": {
             "line": {
              "color": "#E5ECF6",
              "width": 0.5
             },
             "pattern": {
              "fillmode": "overlay",
              "size": 10,
              "solidity": 0.2
             }
            },
            "type": "barpolar"
           }
          ],
          "carpet": [
           {
            "aaxis": {
             "endlinecolor": "#2a3f5f",
             "gridcolor": "white",
             "linecolor": "white",
             "minorgridcolor": "white",
             "startlinecolor": "#2a3f5f"
            },
            "baxis": {
             "endlinecolor": "#2a3f5f",
             "gridcolor": "white",
             "linecolor": "white",
             "minorgridcolor": "white",
             "startlinecolor": "#2a3f5f"
            },
            "type": "carpet"
           }
          ],
          "choropleth": [
           {
            "colorbar": {
             "outlinewidth": 0,
             "ticks": ""
            },
            "type": "choropleth"
           }
          ],
          "contour": [
           {
            "colorbar": {
             "outlinewidth": 0,
             "ticks": ""
            },
            "colorscale": [
             [
              0,
              "#0d0887"
             ],
             [
              0.1111111111111111,
              "#46039f"
             ],
             [
              0.2222222222222222,
              "#7201a8"
             ],
             [
              0.3333333333333333,
              "#9c179e"
             ],
             [
              0.4444444444444444,
              "#bd3786"
             ],
             [
              0.5555555555555556,
              "#d8576b"
             ],
             [
              0.6666666666666666,
              "#ed7953"
             ],
             [
              0.7777777777777778,
              "#fb9f3a"
             ],
             [
              0.8888888888888888,
              "#fdca26"
             ],
             [
              1,
              "#f0f921"
             ]
            ],
            "type": "contour"
           }
          ],
          "contourcarpet": [
           {
            "colorbar": {
             "outlinewidth": 0,
             "ticks": ""
            },
            "type": "contourcarpet"
           }
          ],
          "heatmap": [
           {
            "colorbar": {
             "outlinewidth": 0,
             "ticks": ""
            },
            "colorscale": [
             [
              0,
              "#0d0887"
             ],
             [
              0.1111111111111111,
              "#46039f"
             ],
             [
              0.2222222222222222,
              "#7201a8"
             ],
             [
              0.3333333333333333,
              "#9c179e"
             ],
             [
              0.4444444444444444,
              "#bd3786"
             ],
             [
              0.5555555555555556,
              "#d8576b"
             ],
             [
              0.6666666666666666,
              "#ed7953"
             ],
             [
              0.7777777777777778,
              "#fb9f3a"
             ],
             [
              0.8888888888888888,
              "#fdca26"
             ],
             [
              1,
              "#f0f921"
             ]
            ],
            "type": "heatmap"
           }
          ],
          "heatmapgl": [
           {
            "colorbar": {
             "outlinewidth": 0,
             "ticks": ""
            },
            "colorscale": [
             [
              0,
              "#0d0887"
             ],
             [
              0.1111111111111111,
              "#46039f"
             ],
             [
              0.2222222222222222,
              "#7201a8"
             ],
             [
              0.3333333333333333,
              "#9c179e"
             ],
             [
              0.4444444444444444,
              "#bd3786"
             ],
             [
              0.5555555555555556,
              "#d8576b"
             ],
             [
              0.6666666666666666,
              "#ed7953"
             ],
             [
              0.7777777777777778,
              "#fb9f3a"
             ],
             [
              0.8888888888888888,
              "#fdca26"
             ],
             [
              1,
              "#f0f921"
             ]
            ],
            "type": "heatmapgl"
           }
          ],
          "histogram": [
           {
            "marker": {
             "pattern": {
              "fillmode": "overlay",
              "size": 10,
              "solidity": 0.2
             }
            },
            "type": "histogram"
           }
          ],
          "histogram2d": [
           {
            "colorbar": {
             "outlinewidth": 0,
             "ticks": ""
            },
            "colorscale": [
             [
              0,
              "#0d0887"
             ],
             [
              0.1111111111111111,
              "#46039f"
             ],
             [
              0.2222222222222222,
              "#7201a8"
             ],
             [
              0.3333333333333333,
              "#9c179e"
             ],
             [
              0.4444444444444444,
              "#bd3786"
             ],
             [
              0.5555555555555556,
              "#d8576b"
             ],
             [
              0.6666666666666666,
              "#ed7953"
             ],
             [
              0.7777777777777778,
              "#fb9f3a"
             ],
             [
              0.8888888888888888,
              "#fdca26"
             ],
             [
              1,
              "#f0f921"
             ]
            ],
            "type": "histogram2d"
           }
          ],
          "histogram2dcontour": [
           {
            "colorbar": {
             "outlinewidth": 0,
             "ticks": ""
            },
            "colorscale": [
             [
              0,
              "#0d0887"
             ],
             [
              0.1111111111111111,
              "#46039f"
             ],
             [
              0.2222222222222222,
              "#7201a8"
             ],
             [
              0.3333333333333333,
              "#9c179e"
             ],
             [
              0.4444444444444444,
              "#bd3786"
             ],
             [
              0.5555555555555556,
              "#d8576b"
             ],
             [
              0.6666666666666666,
              "#ed7953"
             ],
             [
              0.7777777777777778,
              "#fb9f3a"
             ],
             [
              0.8888888888888888,
              "#fdca26"
             ],
             [
              1,
              "#f0f921"
             ]
            ],
            "type": "histogram2dcontour"
           }
          ],
          "mesh3d": [
           {
            "colorbar": {
             "outlinewidth": 0,
             "ticks": ""
            },
            "type": "mesh3d"
           }
          ],
          "parcoords": [
           {
            "line": {
             "colorbar": {
              "outlinewidth": 0,
              "ticks": ""
             }
            },
            "type": "parcoords"
           }
          ],
          "pie": [
           {
            "automargin": true,
            "type": "pie"
           }
          ],
          "scatter": [
           {
            "marker": {
             "colorbar": {
              "outlinewidth": 0,
              "ticks": ""
             }
            },
            "type": "scatter"
           }
          ],
          "scatter3d": [
           {
            "line": {
             "colorbar": {
              "outlinewidth": 0,
              "ticks": ""
             }
            },
            "marker": {
             "colorbar": {
              "outlinewidth": 0,
              "ticks": ""
             }
            },
            "type": "scatter3d"
           }
          ],
          "scattercarpet": [
           {
            "marker": {
             "colorbar": {
              "outlinewidth": 0,
              "ticks": ""
             }
            },
            "type": "scattercarpet"
           }
          ],
          "scattergeo": [
           {
            "marker": {
             "colorbar": {
              "outlinewidth": 0,
              "ticks": ""
             }
            },
            "type": "scattergeo"
           }
          ],
          "scattergl": [
           {
            "marker": {
             "colorbar": {
              "outlinewidth": 0,
              "ticks": ""
             }
            },
            "type": "scattergl"
           }
          ],
          "scattermapbox": [
           {
            "marker": {
             "colorbar": {
              "outlinewidth": 0,
              "ticks": ""
             }
            },
            "type": "scattermapbox"
           }
          ],
          "scatterpolar": [
           {
            "marker": {
             "colorbar": {
              "outlinewidth": 0,
              "ticks": ""
             }
            },
            "type": "scatterpolar"
           }
          ],
          "scatterpolargl": [
           {
            "marker": {
             "colorbar": {
              "outlinewidth": 0,
              "ticks": ""
             }
            },
            "type": "scatterpolargl"
           }
          ],
          "scatterternary": [
           {
            "marker": {
             "colorbar": {
              "outlinewidth": 0,
              "ticks": ""
             }
            },
            "type": "scatterternary"
           }
          ],
          "surface": [
           {
            "colorbar": {
             "outlinewidth": 0,
             "ticks": ""
            },
            "colorscale": [
             [
              0,
              "#0d0887"
             ],
             [
              0.1111111111111111,
              "#46039f"
             ],
             [
              0.2222222222222222,
              "#7201a8"
             ],
             [
              0.3333333333333333,
              "#9c179e"
             ],
             [
              0.4444444444444444,
              "#bd3786"
             ],
             [
              0.5555555555555556,
              "#d8576b"
             ],
             [
              0.6666666666666666,
              "#ed7953"
             ],
             [
              0.7777777777777778,
              "#fb9f3a"
             ],
             [
              0.8888888888888888,
              "#fdca26"
             ],
             [
              1,
              "#f0f921"
             ]
            ],
            "type": "surface"
           }
          ],
          "table": [
           {
            "cells": {
             "fill": {
              "color": "#EBF0F8"
             },
             "line": {
              "color": "white"
             }
            },
            "header": {
             "fill": {
              "color": "#C8D4E3"
             },
             "line": {
              "color": "white"
             }
            },
            "type": "table"
           }
          ]
         },
         "layout": {
          "annotationdefaults": {
           "arrowcolor": "#2a3f5f",
           "arrowhead": 0,
           "arrowwidth": 1
          },
          "autotypenumbers": "strict",
          "coloraxis": {
           "colorbar": {
            "outlinewidth": 0,
            "ticks": ""
           }
          },
          "colorscale": {
           "diverging": [
            [
             0,
             "#8e0152"
            ],
            [
             0.1,
             "#c51b7d"
            ],
            [
             0.2,
             "#de77ae"
            ],
            [
             0.3,
             "#f1b6da"
            ],
            [
             0.4,
             "#fde0ef"
            ],
            [
             0.5,
             "#f7f7f7"
            ],
            [
             0.6,
             "#e6f5d0"
            ],
            [
             0.7,
             "#b8e186"
            ],
            [
             0.8,
             "#7fbc41"
            ],
            [
             0.9,
             "#4d9221"
            ],
            [
             1,
             "#276419"
            ]
           ],
           "sequential": [
            [
             0,
             "#0d0887"
            ],
            [
             0.1111111111111111,
             "#46039f"
            ],
            [
             0.2222222222222222,
             "#7201a8"
            ],
            [
             0.3333333333333333,
             "#9c179e"
            ],
            [
             0.4444444444444444,
             "#bd3786"
            ],
            [
             0.5555555555555556,
             "#d8576b"
            ],
            [
             0.6666666666666666,
             "#ed7953"
            ],
            [
             0.7777777777777778,
             "#fb9f3a"
            ],
            [
             0.8888888888888888,
             "#fdca26"
            ],
            [
             1,
             "#f0f921"
            ]
           ],
           "sequentialminus": [
            [
             0,
             "#0d0887"
            ],
            [
             0.1111111111111111,
             "#46039f"
            ],
            [
             0.2222222222222222,
             "#7201a8"
            ],
            [
             0.3333333333333333,
             "#9c179e"
            ],
            [
             0.4444444444444444,
             "#bd3786"
            ],
            [
             0.5555555555555556,
             "#d8576b"
            ],
            [
             0.6666666666666666,
             "#ed7953"
            ],
            [
             0.7777777777777778,
             "#fb9f3a"
            ],
            [
             0.8888888888888888,
             "#fdca26"
            ],
            [
             1,
             "#f0f921"
            ]
           ]
          },
          "colorway": [
           "#636efa",
           "#EF553B",
           "#00cc96",
           "#ab63fa",
           "#FFA15A",
           "#19d3f3",
           "#FF6692",
           "#B6E880",
           "#FF97FF",
           "#FECB52"
          ],
          "font": {
           "color": "#2a3f5f"
          },
          "geo": {
           "bgcolor": "white",
           "lakecolor": "white",
           "landcolor": "#E5ECF6",
           "showlakes": true,
           "showland": true,
           "subunitcolor": "white"
          },
          "hoverlabel": {
           "align": "left"
          },
          "hovermode": "closest",
          "mapbox": {
           "style": "light"
          },
          "paper_bgcolor": "white",
          "plot_bgcolor": "#E5ECF6",
          "polar": {
           "angularaxis": {
            "gridcolor": "white",
            "linecolor": "white",
            "ticks": ""
           },
           "bgcolor": "#E5ECF6",
           "radialaxis": {
            "gridcolor": "white",
            "linecolor": "white",
            "ticks": ""
           }
          },
          "scene": {
           "xaxis": {
            "backgroundcolor": "#E5ECF6",
            "gridcolor": "white",
            "gridwidth": 2,
            "linecolor": "white",
            "showbackground": true,
            "ticks": "",
            "zerolinecolor": "white"
           },
           "yaxis": {
            "backgroundcolor": "#E5ECF6",
            "gridcolor": "white",
            "gridwidth": 2,
            "linecolor": "white",
            "showbackground": true,
            "ticks": "",
            "zerolinecolor": "white"
           },
           "zaxis": {
            "backgroundcolor": "#E5ECF6",
            "gridcolor": "white",
            "gridwidth": 2,
            "linecolor": "white",
            "showbackground": true,
            "ticks": "",
            "zerolinecolor": "white"
           }
          },
          "shapedefaults": {
           "line": {
            "color": "#2a3f5f"
           }
          },
          "ternary": {
           "aaxis": {
            "gridcolor": "white",
            "linecolor": "white",
            "ticks": ""
           },
           "baxis": {
            "gridcolor": "white",
            "linecolor": "white",
            "ticks": ""
           },
           "bgcolor": "#E5ECF6",
           "caxis": {
            "gridcolor": "white",
            "linecolor": "white",
            "ticks": ""
           }
          },
          "title": {
           "x": 0.05
          },
          "xaxis": {
           "automargin": true,
           "gridcolor": "white",
           "linecolor": "white",
           "ticks": "",
           "title": {
            "standoff": 15
           },
           "zerolinecolor": "white",
           "zerolinewidth": 2
          },
          "yaxis": {
           "automargin": true,
           "gridcolor": "white",
           "linecolor": "white",
           "ticks": "",
           "title": {
            "standoff": 15
           },
           "zerolinecolor": "white",
           "zerolinewidth": 2
          }
         }
        }
       }
      },
      "text/html": [
       "<div>                            <div id=\"3715196c-c53b-4afc-9554-9e2688e6043e\" class=\"plotly-graph-div\" style=\"height:525px; width:100%;\"></div>            <script type=\"text/javascript\">                require([\"plotly\"], function(Plotly) {                    window.PLOTLYENV=window.PLOTLYENV || {};                                    if (document.getElementById(\"3715196c-c53b-4afc-9554-9e2688e6043e\")) {                    Plotly.newPlot(                        \"3715196c-c53b-4afc-9554-9e2688e6043e\",                        [{\"branchvalues\":\"total\",\"customdata\":[[530000],[481000],[1290000],[602000],[1070000],[400000],[559000],[349000],[3550000],[348000],[723000],[1200000],[1680000],[696000],[1710000],[1440000],[876000],[1420000],[806000],[910000],[1770000],[904000],[1160000],[415000],[1150000],[1230000],[1260000],[855000],[879000],[1170000],[519000],[511000],[765000],[1270000],[1660000],[794000],[1340000],[1010000],[1240000],[880000],[847000],[219000],[1090000],[1450000],[1760000],[1510000],[631000],[848000],[758000],[\"(?)\"],[\"(?)\"],[696000],[\"(?)\"],[\"(?)\"],[\"(?)\"],[\"(?)\"],[\"(?)\"],[\"(?)\"],[\"(?)\"],[\"(?)\"],[\"(?)\"],[\"(?)\"],[\"(?)\"],[\"(?)\"],[\"(?)\"]],\"domain\":{\"x\":[0.0,1.0],\"y\":[0.0,1.0]},\"hovertemplate\":\"<i>Price</i>: $%{y:.2f}\",\"ids\":[\"all/JP/JP-0/AZKi\",\"all/ID/ID-1/Airani Iofifteen\",\"all/JP/JP-1/Akai Haato\",\"all/JP/JP-1/Aki Rosenthal\",\"all/JP/JP-4/Amane Kanata\",\"all/ID/ID-2/Anya Melfissa\",\"all/ID/ID-1/Ayunda Risu\",\"all/EN/EN-2/Ceres Fauna\",\"all/EN/EN-1/Gawr Gura\",\"all/EN/EN-2/Hakos Baelz\",\"all/JP/JP-4/Himemori Luna\",\"all/JP/JP-0/Hoshimachi Suisei\",\"all/JP/JP-3/Houshou Marine\",\"all/EN/HOPE/IRyS\",\"all/JP/JP-GAMER/Inugami Korone\",\"all/JP/JP-4/Kiryu Coco\",\"all/ID/ID-2/Kureiji Ollie\",\"all/JP/JP-2/Minato Aqua\",\"all/JP/JP-5/Momosuzu Nene\",\"all/ID/ID-1/Moona Hoshinova\",\"all/EN/EN-1/Mori Calliope\",\"all/JP/JP-2/Murasaki Shion\",\"all/JP/JP-2/Nakiri Ayame\",\"all/EN/EN-2/Nanashi Mumei\",\"all/JP/JP-1/Natsuiro Matsuri\",\"all/JP/JP-GAMER/Nekomata Okayu\",\"all/EN/EN-1/Ninomae Ina'nis \",\"all/JP/JP-5/Omaru Polka\",\"all/JP/JP-GAMER/Ookami Mio\",\"all/JP/JP-2/Oozora Subaru\",\"all/EN/EN-2/Ouro Kronii\",\"all/ID/ID-2/Pavolia Reine\",\"all/JP/JP-0/Roboco-san\",\"all/JP/JP-0/Sakura Miko\",\"all/JP/JP-1/Shirakami Fubuki\",\"all/JP/JP-3/Shiranui Flare\",\"all/JP/JP-3/Shirogane Noel\",\"all/JP/JP-5/Shishiro Botan\",\"all/EN/EN-1/Takanashi Kiara\",\"all/JP/JP-0/Tokino Sora\",\"all/JP/JP-4/Tokoyami Towa\",\"all/EN/EN-2/Tsukumo Sana\",\"all/JP/JP-4/Tsunamaki Watame\",\"all/JP/JP-3/Uruha Rushia\",\"all/JP/JP-3/Usada Pekora\",\"all/EN/EN-1/Watson Amelia\",\"all/JP/JP-1/Yozora Mel\",\"all/JP/JP-5/Yukihana Lamy\",\"all/JP/JP-2/Yuzuki Choco\",\"all/EN/EN-1\",\"all/EN/EN-2\",\"all/EN/HOPE\",\"all/ID/ID-1\",\"all/ID/ID-2\",\"all/JP/JP-0\",\"all/JP/JP-1\",\"all/JP/JP-2\",\"all/JP/JP-3\",\"all/JP/JP-4\",\"all/JP/JP-5\",\"all/JP/JP-GAMER\",\"all/EN\",\"all/ID\",\"all/JP\",\"all\"],\"labels\":[\"AZKi\",\"Airani Iofifteen\",\"Akai Haato\",\"Aki Rosenthal\",\"Amane Kanata\",\"Anya Melfissa\",\"Ayunda Risu\",\"Ceres Fauna\",\"Gawr Gura\",\"Hakos Baelz\",\"Himemori Luna\",\"Hoshimachi Suisei\",\"Houshou Marine\",\"IRyS\",\"Inugami Korone\",\"Kiryu Coco\",\"Kureiji Ollie\",\"Minato Aqua\",\"Momosuzu Nene\",\"Moona Hoshinova\",\"Mori Calliope\",\"Murasaki Shion\",\"Nakiri Ayame\",\"Nanashi Mumei\",\"Natsuiro Matsuri\",\"Nekomata Okayu\",\"Ninomae Ina'nis \",\"Omaru Polka\",\"Ookami Mio\",\"Oozora Subaru\",\"Ouro Kronii\",\"Pavolia Reine\",\"Roboco-san\",\"Sakura Miko\",\"Shirakami Fubuki\",\"Shiranui Flare\",\"Shirogane Noel\",\"Shishiro Botan\",\"Takanashi Kiara\",\"Tokino Sora\",\"Tokoyami Towa\",\"Tsukumo Sana\",\"Tsunamaki Watame\",\"Uruha Rushia\",\"Usada Pekora\",\"Watson Amelia\",\"Yozora Mel\",\"Yukihana Lamy\",\"Yuzuki Choco\",\"EN-1\",\"EN-2\",\"HOPE\",\"ID-1\",\"ID-2\",\"JP-0\",\"JP-1\",\"JP-2\",\"JP-3\",\"JP-4\",\"JP-5\",\"JP-GAMER\",\"EN\",\"ID\",\"JP\",\"all\"],\"name\":\"\",\"parents\":[\"all/JP/JP-0\",\"all/ID/ID-1\",\"all/JP/JP-1\",\"all/JP/JP-1\",\"all/JP/JP-4\",\"all/ID/ID-2\",\"all/ID/ID-1\",\"all/EN/EN-2\",\"all/EN/EN-1\",\"all/EN/EN-2\",\"all/JP/JP-4\",\"all/JP/JP-0\",\"all/JP/JP-3\",\"all/EN/HOPE\",\"all/JP/JP-GAMER\",\"all/JP/JP-4\",\"all/ID/ID-2\",\"all/JP/JP-2\",\"all/JP/JP-5\",\"all/ID/ID-1\",\"all/EN/EN-1\",\"all/JP/JP-2\",\"all/JP/JP-2\",\"all/EN/EN-2\",\"all/JP/JP-1\",\"all/JP/JP-GAMER\",\"all/EN/EN-1\",\"all/JP/JP-5\",\"all/JP/JP-GAMER\",\"all/JP/JP-2\",\"all/EN/EN-2\",\"all/ID/ID-2\",\"all/JP/JP-0\",\"all/JP/JP-0\",\"all/JP/JP-1\",\"all/JP/JP-3\",\"all/JP/JP-3\",\"all/JP/JP-5\",\"all/EN/EN-1\",\"all/JP/JP-0\",\"all/JP/JP-4\",\"all/EN/EN-2\",\"all/JP/JP-4\",\"all/JP/JP-3\",\"all/JP/JP-3\",\"all/EN/EN-1\",\"all/JP/JP-1\",\"all/JP/JP-5\",\"all/JP/JP-2\",\"all/EN\",\"all/EN\",\"all/EN\",\"all/ID\",\"all/ID\",\"all/JP\",\"all/JP\",\"all/JP\",\"all/JP\",\"all/JP\",\"all/JP\",\"all/JP\",\"all\",\"all\",\"all\",\"\"],\"root\":{\"color\":\"lightgrey\"},\"tiling\":{\"orientation\":\"v\"},\"type\":\"icicle\",\"values\":[1,1,1,1,1,1,1,1,1,1,1,1,1,1,1,1,1,1,1,1,1,1,1,1,1,1,1,1,1,1,1,1,1,1,1,1,1,1,1,1,1,1,1,1,1,1,1,1,1,5,5,1,3,3,5,5,5,5,5,4,3,11,6,32,49]}],                        {\"legend\":{\"tracegroupgap\":0},\"margin\":{\"t\":60},\"template\":{\"data\":{\"bar\":[{\"error_x\":{\"color\":\"#2a3f5f\"},\"error_y\":{\"color\":\"#2a3f5f\"},\"marker\":{\"line\":{\"color\":\"#E5ECF6\",\"width\":0.5},\"pattern\":{\"fillmode\":\"overlay\",\"size\":10,\"solidity\":0.2}},\"type\":\"bar\"}],\"barpolar\":[{\"marker\":{\"line\":{\"color\":\"#E5ECF6\",\"width\":0.5},\"pattern\":{\"fillmode\":\"overlay\",\"size\":10,\"solidity\":0.2}},\"type\":\"barpolar\"}],\"carpet\":[{\"aaxis\":{\"endlinecolor\":\"#2a3f5f\",\"gridcolor\":\"white\",\"linecolor\":\"white\",\"minorgridcolor\":\"white\",\"startlinecolor\":\"#2a3f5f\"},\"baxis\":{\"endlinecolor\":\"#2a3f5f\",\"gridcolor\":\"white\",\"linecolor\":\"white\",\"minorgridcolor\":\"white\",\"startlinecolor\":\"#2a3f5f\"},\"type\":\"carpet\"}],\"choropleth\":[{\"colorbar\":{\"outlinewidth\":0,\"ticks\":\"\"},\"type\":\"choropleth\"}],\"contour\":[{\"colorbar\":{\"outlinewidth\":0,\"ticks\":\"\"},\"colorscale\":[[0.0,\"#0d0887\"],[0.1111111111111111,\"#46039f\"],[0.2222222222222222,\"#7201a8\"],[0.3333333333333333,\"#9c179e\"],[0.4444444444444444,\"#bd3786\"],[0.5555555555555556,\"#d8576b\"],[0.6666666666666666,\"#ed7953\"],[0.7777777777777778,\"#fb9f3a\"],[0.8888888888888888,\"#fdca26\"],[1.0,\"#f0f921\"]],\"type\":\"contour\"}],\"contourcarpet\":[{\"colorbar\":{\"outlinewidth\":0,\"ticks\":\"\"},\"type\":\"contourcarpet\"}],\"heatmap\":[{\"colorbar\":{\"outlinewidth\":0,\"ticks\":\"\"},\"colorscale\":[[0.0,\"#0d0887\"],[0.1111111111111111,\"#46039f\"],[0.2222222222222222,\"#7201a8\"],[0.3333333333333333,\"#9c179e\"],[0.4444444444444444,\"#bd3786\"],[0.5555555555555556,\"#d8576b\"],[0.6666666666666666,\"#ed7953\"],[0.7777777777777778,\"#fb9f3a\"],[0.8888888888888888,\"#fdca26\"],[1.0,\"#f0f921\"]],\"type\":\"heatmap\"}],\"heatmapgl\":[{\"colorbar\":{\"outlinewidth\":0,\"ticks\":\"\"},\"colorscale\":[[0.0,\"#0d0887\"],[0.1111111111111111,\"#46039f\"],[0.2222222222222222,\"#7201a8\"],[0.3333333333333333,\"#9c179e\"],[0.4444444444444444,\"#bd3786\"],[0.5555555555555556,\"#d8576b\"],[0.6666666666666666,\"#ed7953\"],[0.7777777777777778,\"#fb9f3a\"],[0.8888888888888888,\"#fdca26\"],[1.0,\"#f0f921\"]],\"type\":\"heatmapgl\"}],\"histogram\":[{\"marker\":{\"pattern\":{\"fillmode\":\"overlay\",\"size\":10,\"solidity\":0.2}},\"type\":\"histogram\"}],\"histogram2d\":[{\"colorbar\":{\"outlinewidth\":0,\"ticks\":\"\"},\"colorscale\":[[0.0,\"#0d0887\"],[0.1111111111111111,\"#46039f\"],[0.2222222222222222,\"#7201a8\"],[0.3333333333333333,\"#9c179e\"],[0.4444444444444444,\"#bd3786\"],[0.5555555555555556,\"#d8576b\"],[0.6666666666666666,\"#ed7953\"],[0.7777777777777778,\"#fb9f3a\"],[0.8888888888888888,\"#fdca26\"],[1.0,\"#f0f921\"]],\"type\":\"histogram2d\"}],\"histogram2dcontour\":[{\"colorbar\":{\"outlinewidth\":0,\"ticks\":\"\"},\"colorscale\":[[0.0,\"#0d0887\"],[0.1111111111111111,\"#46039f\"],[0.2222222222222222,\"#7201a8\"],[0.3333333333333333,\"#9c179e\"],[0.4444444444444444,\"#bd3786\"],[0.5555555555555556,\"#d8576b\"],[0.6666666666666666,\"#ed7953\"],[0.7777777777777778,\"#fb9f3a\"],[0.8888888888888888,\"#fdca26\"],[1.0,\"#f0f921\"]],\"type\":\"histogram2dcontour\"}],\"mesh3d\":[{\"colorbar\":{\"outlinewidth\":0,\"ticks\":\"\"},\"type\":\"mesh3d\"}],\"parcoords\":[{\"line\":{\"colorbar\":{\"outlinewidth\":0,\"ticks\":\"\"}},\"type\":\"parcoords\"}],\"pie\":[{\"automargin\":true,\"type\":\"pie\"}],\"scatter\":[{\"marker\":{\"colorbar\":{\"outlinewidth\":0,\"ticks\":\"\"}},\"type\":\"scatter\"}],\"scatter3d\":[{\"line\":{\"colorbar\":{\"outlinewidth\":0,\"ticks\":\"\"}},\"marker\":{\"colorbar\":{\"outlinewidth\":0,\"ticks\":\"\"}},\"type\":\"scatter3d\"}],\"scattercarpet\":[{\"marker\":{\"colorbar\":{\"outlinewidth\":0,\"ticks\":\"\"}},\"type\":\"scattercarpet\"}],\"scattergeo\":[{\"marker\":{\"colorbar\":{\"outlinewidth\":0,\"ticks\":\"\"}},\"type\":\"scattergeo\"}],\"scattergl\":[{\"marker\":{\"colorbar\":{\"outlinewidth\":0,\"ticks\":\"\"}},\"type\":\"scattergl\"}],\"scattermapbox\":[{\"marker\":{\"colorbar\":{\"outlinewidth\":0,\"ticks\":\"\"}},\"type\":\"scattermapbox\"}],\"scatterpolar\":[{\"marker\":{\"colorbar\":{\"outlinewidth\":0,\"ticks\":\"\"}},\"type\":\"scatterpolar\"}],\"scatterpolargl\":[{\"marker\":{\"colorbar\":{\"outlinewidth\":0,\"ticks\":\"\"}},\"type\":\"scatterpolargl\"}],\"scatterternary\":[{\"marker\":{\"colorbar\":{\"outlinewidth\":0,\"ticks\":\"\"}},\"type\":\"scatterternary\"}],\"surface\":[{\"colorbar\":{\"outlinewidth\":0,\"ticks\":\"\"},\"colorscale\":[[0.0,\"#0d0887\"],[0.1111111111111111,\"#46039f\"],[0.2222222222222222,\"#7201a8\"],[0.3333333333333333,\"#9c179e\"],[0.4444444444444444,\"#bd3786\"],[0.5555555555555556,\"#d8576b\"],[0.6666666666666666,\"#ed7953\"],[0.7777777777777778,\"#fb9f3a\"],[0.8888888888888888,\"#fdca26\"],[1.0,\"#f0f921\"]],\"type\":\"surface\"}],\"table\":[{\"cells\":{\"fill\":{\"color\":\"#EBF0F8\"},\"line\":{\"color\":\"white\"}},\"header\":{\"fill\":{\"color\":\"#C8D4E3\"},\"line\":{\"color\":\"white\"}},\"type\":\"table\"}]},\"layout\":{\"annotationdefaults\":{\"arrowcolor\":\"#2a3f5f\",\"arrowhead\":0,\"arrowwidth\":1},\"autotypenumbers\":\"strict\",\"coloraxis\":{\"colorbar\":{\"outlinewidth\":0,\"ticks\":\"\"}},\"colorscale\":{\"diverging\":[[0,\"#8e0152\"],[0.1,\"#c51b7d\"],[0.2,\"#de77ae\"],[0.3,\"#f1b6da\"],[0.4,\"#fde0ef\"],[0.5,\"#f7f7f7\"],[0.6,\"#e6f5d0\"],[0.7,\"#b8e186\"],[0.8,\"#7fbc41\"],[0.9,\"#4d9221\"],[1,\"#276419\"]],\"sequential\":[[0.0,\"#0d0887\"],[0.1111111111111111,\"#46039f\"],[0.2222222222222222,\"#7201a8\"],[0.3333333333333333,\"#9c179e\"],[0.4444444444444444,\"#bd3786\"],[0.5555555555555556,\"#d8576b\"],[0.6666666666666666,\"#ed7953\"],[0.7777777777777778,\"#fb9f3a\"],[0.8888888888888888,\"#fdca26\"],[1.0,\"#f0f921\"]],\"sequentialminus\":[[0.0,\"#0d0887\"],[0.1111111111111111,\"#46039f\"],[0.2222222222222222,\"#7201a8\"],[0.3333333333333333,\"#9c179e\"],[0.4444444444444444,\"#bd3786\"],[0.5555555555555556,\"#d8576b\"],[0.6666666666666666,\"#ed7953\"],[0.7777777777777778,\"#fb9f3a\"],[0.8888888888888888,\"#fdca26\"],[1.0,\"#f0f921\"]]},\"colorway\":[\"#636efa\",\"#EF553B\",\"#00cc96\",\"#ab63fa\",\"#FFA15A\",\"#19d3f3\",\"#FF6692\",\"#B6E880\",\"#FF97FF\",\"#FECB52\"],\"font\":{\"color\":\"#2a3f5f\"},\"geo\":{\"bgcolor\":\"white\",\"lakecolor\":\"white\",\"landcolor\":\"#E5ECF6\",\"showlakes\":true,\"showland\":true,\"subunitcolor\":\"white\"},\"hoverlabel\":{\"align\":\"left\"},\"hovermode\":\"closest\",\"mapbox\":{\"style\":\"light\"},\"paper_bgcolor\":\"white\",\"plot_bgcolor\":\"#E5ECF6\",\"polar\":{\"angularaxis\":{\"gridcolor\":\"white\",\"linecolor\":\"white\",\"ticks\":\"\"},\"bgcolor\":\"#E5ECF6\",\"radialaxis\":{\"gridcolor\":\"white\",\"linecolor\":\"white\",\"ticks\":\"\"}},\"scene\":{\"xaxis\":{\"backgroundcolor\":\"#E5ECF6\",\"gridcolor\":\"white\",\"gridwidth\":2,\"linecolor\":\"white\",\"showbackground\":true,\"ticks\":\"\",\"zerolinecolor\":\"white\"},\"yaxis\":{\"backgroundcolor\":\"#E5ECF6\",\"gridcolor\":\"white\",\"gridwidth\":2,\"linecolor\":\"white\",\"showbackground\":true,\"ticks\":\"\",\"zerolinecolor\":\"white\"},\"zaxis\":{\"backgroundcolor\":\"#E5ECF6\",\"gridcolor\":\"white\",\"gridwidth\":2,\"linecolor\":\"white\",\"showbackground\":true,\"ticks\":\"\",\"zerolinecolor\":\"white\"}},\"shapedefaults\":{\"line\":{\"color\":\"#2a3f5f\"}},\"ternary\":{\"aaxis\":{\"gridcolor\":\"white\",\"linecolor\":\"white\",\"ticks\":\"\"},\"baxis\":{\"gridcolor\":\"white\",\"linecolor\":\"white\",\"ticks\":\"\"},\"bgcolor\":\"#E5ECF6\",\"caxis\":{\"gridcolor\":\"white\",\"linecolor\":\"white\",\"ticks\":\"\"}},\"title\":{\"x\":0.05},\"xaxis\":{\"automargin\":true,\"gridcolor\":\"white\",\"linecolor\":\"white\",\"ticks\":\"\",\"title\":{\"standoff\":15},\"zerolinecolor\":\"white\",\"zerolinewidth\":2},\"yaxis\":{\"automargin\":true,\"gridcolor\":\"white\",\"linecolor\":\"white\",\"ticks\":\"\",\"title\":{\"standoff\":15},\"zerolinecolor\":\"white\",\"zerolinewidth\":2}}}},                        {\"responsive\": true}                    ).then(function(){\n",
       "                            \n",
       "var gd = document.getElementById('3715196c-c53b-4afc-9554-9e2688e6043e');\n",
       "var x = new MutationObserver(function (mutations, observer) {{\n",
       "        var display = window.getComputedStyle(gd).display;\n",
       "        if (!display || display === 'none') {{\n",
       "            console.log([gd, 'removed!']);\n",
       "            Plotly.purge(gd);\n",
       "            observer.disconnect();\n",
       "        }}\n",
       "}});\n",
       "\n",
       "// Listen for the removal of the full notebook cells\n",
       "var notebookContainer = gd.closest('#notebook-container');\n",
       "if (notebookContainer) {{\n",
       "    x.observe(notebookContainer, {childList: true});\n",
       "}}\n",
       "\n",
       "// Listen for the clearing of the current output cell\n",
       "var outputEl = gd.closest('.output');\n",
       "if (outputEl) {{\n",
       "    x.observe(outputEl, {childList: true});\n",
       "}}\n",
       "\n",
       "                        })                };                });            </script>        </div>"
      ]
     },
     "metadata": {},
     "output_type": "display_data"
    }
   ],
   "source": [
    "fig = px.icicle(\n",
    "    channel,\n",
    "    path = [px.Constant(\"all\"), 'branch', 'gen', 'full_name'],\n",
    "#     values = 'subscribers'\n",
    "    hover_data = ['subscribers']\n",
    ")\n",
    "fig.update_traces(\n",
    "    root_color=\"lightgrey\",\n",
    "    tiling = dict(\n",
    "        orientation = 'v'\n",
    "    ),\n",
    "    hovertemplate =  '<i>Price</i>: %{y:.2f}'\n",
    ")\n",
    "fig.show()"
   ]
  },
  {
   "cell_type": "code",
   "execution_count": 13,
   "id": "f4d51483",
   "metadata": {},
   "outputs": [
    {
     "data": {
      "application/vnd.plotly.v1+json": {
       "config": {
        "plotlyServerURL": "https://plot.ly"
       },
       "data": [
        {
         "ids": [
          "Tokino Sora",
          "Hoshimachi Suisei",
          "Roboco-san",
          "AZKi",
          "Yozora Mel",
          "Natsuiro Matsuri",
          "Akai Haato",
          "Aki Rosenthal",
          "Shirakami Fubuki",
          "Minato Aqua",
          "Murasaki Shion",
          "Nakiri Ayame",
          "Yuzuki Choco",
          "Oozora Subaru",
          "Ookami Mio",
          "Sakura Miko",
          "Nekomata Okayu",
          "Inugami Korone",
          "Uruha Rushia",
          "Usada Pekora",
          "Houshou Marine",
          "Shirogane Noel",
          "Shiranui Flare",
          "Tsunamaki Watame",
          "Tokoyami Towa",
          "Kiryu Coco",
          "Amane Kanata",
          "Himemori Luna",
          "Yukihana Lamy",
          "Momosuzu Nene",
          "Shishiro Botan",
          "Omaru Polka",
          "Ayunda Risu",
          "Moona Hoshinova",
          "Airani Iofifteen",
          "Kureiji Ollie",
          "Anya Melfissa",
          "Pavolia Reine",
          "Mori Calliope",
          "Takanashi Kiara",
          "Ninomae Ina'nis ",
          "Gawr Gura",
          "Watson Amelia",
          "IRyS",
          "Tsukumo Sana",
          "Ceres Fauna",
          "Ouro Kronii",
          "Nanashi Mumei",
          "Hakos Baelz"
         ],
         "labels": [
          "Tokino Sora",
          "Hoshimachi Suisei",
          "Roboco-san",
          "AZKi",
          "Yozora Mel",
          "Natsuiro Matsuri",
          "Akai Haato",
          "Aki Rosenthal",
          "Shirakami Fubuki",
          "Minato Aqua",
          "Murasaki Shion",
          "Nakiri Ayame",
          "Yuzuki Choco",
          "Oozora Subaru",
          "Ookami Mio",
          "Sakura Miko",
          "Nekomata Okayu",
          "Inugami Korone",
          "Uruha Rushia",
          "Usada Pekora",
          "Houshou Marine",
          "Shirogane Noel",
          "Shiranui Flare",
          "Tsunamaki Watame",
          "Tokoyami Towa",
          "Kiryu Coco",
          "Amane Kanata",
          "Himemori Luna",
          "Yukihana Lamy",
          "Momosuzu Nene",
          "Shishiro Botan",
          "Omaru Polka",
          "Ayunda Risu",
          "Moona Hoshinova",
          "Airani Iofifteen",
          "Kureiji Ollie",
          "Anya Melfissa",
          "Pavolia Reine",
          "Mori Calliope",
          "Takanashi Kiara",
          "Ninomae Ina'nis ",
          "Gawr Gura",
          "Watson Amelia",
          "IRyS",
          "Tsukumo Sana",
          "Ceres Fauna",
          "Ouro Kronii",
          "Nanashi Mumei",
          "Hakos Baelz"
         ],
         "parents": [
          "JP",
          "JP",
          "JP",
          "JP",
          "JP",
          "JP",
          "JP",
          "JP",
          "JP",
          "JP",
          "JP",
          "JP",
          "JP",
          "JP",
          "JP",
          "JP",
          "JP",
          "JP",
          "JP",
          "JP",
          "JP",
          "JP",
          "JP",
          "JP",
          "JP",
          "JP",
          "JP",
          "JP",
          "JP",
          "JP",
          "JP",
          "JP",
          "ID",
          "ID",
          "ID",
          "ID",
          "ID",
          "ID",
          "EN",
          "EN",
          "EN",
          "EN",
          "EN",
          "EN",
          "EN",
          "EN",
          "EN",
          "EN",
          "EN"
         ],
         "type": "icicle"
        }
       ],
       "layout": {
        "template": {
         "data": {
          "bar": [
           {
            "error_x": {
             "color": "#2a3f5f"
            },
            "error_y": {
             "color": "#2a3f5f"
            },
            "marker": {
             "line": {
              "color": "#E5ECF6",
              "width": 0.5
             },
             "pattern": {
              "fillmode": "overlay",
              "size": 10,
              "solidity": 0.2
             }
            },
            "type": "bar"
           }
          ],
          "barpolar": [
           {
            "marker": {
             "line": {
              "color": "#E5ECF6",
              "width": 0.5
             },
             "pattern": {
              "fillmode": "overlay",
              "size": 10,
              "solidity": 0.2
             }
            },
            "type": "barpolar"
           }
          ],
          "carpet": [
           {
            "aaxis": {
             "endlinecolor": "#2a3f5f",
             "gridcolor": "white",
             "linecolor": "white",
             "minorgridcolor": "white",
             "startlinecolor": "#2a3f5f"
            },
            "baxis": {
             "endlinecolor": "#2a3f5f",
             "gridcolor": "white",
             "linecolor": "white",
             "minorgridcolor": "white",
             "startlinecolor": "#2a3f5f"
            },
            "type": "carpet"
           }
          ],
          "choropleth": [
           {
            "colorbar": {
             "outlinewidth": 0,
             "ticks": ""
            },
            "type": "choropleth"
           }
          ],
          "contour": [
           {
            "colorbar": {
             "outlinewidth": 0,
             "ticks": ""
            },
            "colorscale": [
             [
              0,
              "#0d0887"
             ],
             [
              0.1111111111111111,
              "#46039f"
             ],
             [
              0.2222222222222222,
              "#7201a8"
             ],
             [
              0.3333333333333333,
              "#9c179e"
             ],
             [
              0.4444444444444444,
              "#bd3786"
             ],
             [
              0.5555555555555556,
              "#d8576b"
             ],
             [
              0.6666666666666666,
              "#ed7953"
             ],
             [
              0.7777777777777778,
              "#fb9f3a"
             ],
             [
              0.8888888888888888,
              "#fdca26"
             ],
             [
              1,
              "#f0f921"
             ]
            ],
            "type": "contour"
           }
          ],
          "contourcarpet": [
           {
            "colorbar": {
             "outlinewidth": 0,
             "ticks": ""
            },
            "type": "contourcarpet"
           }
          ],
          "heatmap": [
           {
            "colorbar": {
             "outlinewidth": 0,
             "ticks": ""
            },
            "colorscale": [
             [
              0,
              "#0d0887"
             ],
             [
              0.1111111111111111,
              "#46039f"
             ],
             [
              0.2222222222222222,
              "#7201a8"
             ],
             [
              0.3333333333333333,
              "#9c179e"
             ],
             [
              0.4444444444444444,
              "#bd3786"
             ],
             [
              0.5555555555555556,
              "#d8576b"
             ],
             [
              0.6666666666666666,
              "#ed7953"
             ],
             [
              0.7777777777777778,
              "#fb9f3a"
             ],
             [
              0.8888888888888888,
              "#fdca26"
             ],
             [
              1,
              "#f0f921"
             ]
            ],
            "type": "heatmap"
           }
          ],
          "heatmapgl": [
           {
            "colorbar": {
             "outlinewidth": 0,
             "ticks": ""
            },
            "colorscale": [
             [
              0,
              "#0d0887"
             ],
             [
              0.1111111111111111,
              "#46039f"
             ],
             [
              0.2222222222222222,
              "#7201a8"
             ],
             [
              0.3333333333333333,
              "#9c179e"
             ],
             [
              0.4444444444444444,
              "#bd3786"
             ],
             [
              0.5555555555555556,
              "#d8576b"
             ],
             [
              0.6666666666666666,
              "#ed7953"
             ],
             [
              0.7777777777777778,
              "#fb9f3a"
             ],
             [
              0.8888888888888888,
              "#fdca26"
             ],
             [
              1,
              "#f0f921"
             ]
            ],
            "type": "heatmapgl"
           }
          ],
          "histogram": [
           {
            "marker": {
             "pattern": {
              "fillmode": "overlay",
              "size": 10,
              "solidity": 0.2
             }
            },
            "type": "histogram"
           }
          ],
          "histogram2d": [
           {
            "colorbar": {
             "outlinewidth": 0,
             "ticks": ""
            },
            "colorscale": [
             [
              0,
              "#0d0887"
             ],
             [
              0.1111111111111111,
              "#46039f"
             ],
             [
              0.2222222222222222,
              "#7201a8"
             ],
             [
              0.3333333333333333,
              "#9c179e"
             ],
             [
              0.4444444444444444,
              "#bd3786"
             ],
             [
              0.5555555555555556,
              "#d8576b"
             ],
             [
              0.6666666666666666,
              "#ed7953"
             ],
             [
              0.7777777777777778,
              "#fb9f3a"
             ],
             [
              0.8888888888888888,
              "#fdca26"
             ],
             [
              1,
              "#f0f921"
             ]
            ],
            "type": "histogram2d"
           }
          ],
          "histogram2dcontour": [
           {
            "colorbar": {
             "outlinewidth": 0,
             "ticks": ""
            },
            "colorscale": [
             [
              0,
              "#0d0887"
             ],
             [
              0.1111111111111111,
              "#46039f"
             ],
             [
              0.2222222222222222,
              "#7201a8"
             ],
             [
              0.3333333333333333,
              "#9c179e"
             ],
             [
              0.4444444444444444,
              "#bd3786"
             ],
             [
              0.5555555555555556,
              "#d8576b"
             ],
             [
              0.6666666666666666,
              "#ed7953"
             ],
             [
              0.7777777777777778,
              "#fb9f3a"
             ],
             [
              0.8888888888888888,
              "#fdca26"
             ],
             [
              1,
              "#f0f921"
             ]
            ],
            "type": "histogram2dcontour"
           }
          ],
          "mesh3d": [
           {
            "colorbar": {
             "outlinewidth": 0,
             "ticks": ""
            },
            "type": "mesh3d"
           }
          ],
          "parcoords": [
           {
            "line": {
             "colorbar": {
              "outlinewidth": 0,
              "ticks": ""
             }
            },
            "type": "parcoords"
           }
          ],
          "pie": [
           {
            "automargin": true,
            "type": "pie"
           }
          ],
          "scatter": [
           {
            "marker": {
             "colorbar": {
              "outlinewidth": 0,
              "ticks": ""
             }
            },
            "type": "scatter"
           }
          ],
          "scatter3d": [
           {
            "line": {
             "colorbar": {
              "outlinewidth": 0,
              "ticks": ""
             }
            },
            "marker": {
             "colorbar": {
              "outlinewidth": 0,
              "ticks": ""
             }
            },
            "type": "scatter3d"
           }
          ],
          "scattercarpet": [
           {
            "marker": {
             "colorbar": {
              "outlinewidth": 0,
              "ticks": ""
             }
            },
            "type": "scattercarpet"
           }
          ],
          "scattergeo": [
           {
            "marker": {
             "colorbar": {
              "outlinewidth": 0,
              "ticks": ""
             }
            },
            "type": "scattergeo"
           }
          ],
          "scattergl": [
           {
            "marker": {
             "colorbar": {
              "outlinewidth": 0,
              "ticks": ""
             }
            },
            "type": "scattergl"
           }
          ],
          "scattermapbox": [
           {
            "marker": {
             "colorbar": {
              "outlinewidth": 0,
              "ticks": ""
             }
            },
            "type": "scattermapbox"
           }
          ],
          "scatterpolar": [
           {
            "marker": {
             "colorbar": {
              "outlinewidth": 0,
              "ticks": ""
             }
            },
            "type": "scatterpolar"
           }
          ],
          "scatterpolargl": [
           {
            "marker": {
             "colorbar": {
              "outlinewidth": 0,
              "ticks": ""
             }
            },
            "type": "scatterpolargl"
           }
          ],
          "scatterternary": [
           {
            "marker": {
             "colorbar": {
              "outlinewidth": 0,
              "ticks": ""
             }
            },
            "type": "scatterternary"
           }
          ],
          "surface": [
           {
            "colorbar": {
             "outlinewidth": 0,
             "ticks": ""
            },
            "colorscale": [
             [
              0,
              "#0d0887"
             ],
             [
              0.1111111111111111,
              "#46039f"
             ],
             [
              0.2222222222222222,
              "#7201a8"
             ],
             [
              0.3333333333333333,
              "#9c179e"
             ],
             [
              0.4444444444444444,
              "#bd3786"
             ],
             [
              0.5555555555555556,
              "#d8576b"
             ],
             [
              0.6666666666666666,
              "#ed7953"
             ],
             [
              0.7777777777777778,
              "#fb9f3a"
             ],
             [
              0.8888888888888888,
              "#fdca26"
             ],
             [
              1,
              "#f0f921"
             ]
            ],
            "type": "surface"
           }
          ],
          "table": [
           {
            "cells": {
             "fill": {
              "color": "#EBF0F8"
             },
             "line": {
              "color": "white"
             }
            },
            "header": {
             "fill": {
              "color": "#C8D4E3"
             },
             "line": {
              "color": "white"
             }
            },
            "type": "table"
           }
          ]
         },
         "layout": {
          "annotationdefaults": {
           "arrowcolor": "#2a3f5f",
           "arrowhead": 0,
           "arrowwidth": 1
          },
          "autotypenumbers": "strict",
          "coloraxis": {
           "colorbar": {
            "outlinewidth": 0,
            "ticks": ""
           }
          },
          "colorscale": {
           "diverging": [
            [
             0,
             "#8e0152"
            ],
            [
             0.1,
             "#c51b7d"
            ],
            [
             0.2,
             "#de77ae"
            ],
            [
             0.3,
             "#f1b6da"
            ],
            [
             0.4,
             "#fde0ef"
            ],
            [
             0.5,
             "#f7f7f7"
            ],
            [
             0.6,
             "#e6f5d0"
            ],
            [
             0.7,
             "#b8e186"
            ],
            [
             0.8,
             "#7fbc41"
            ],
            [
             0.9,
             "#4d9221"
            ],
            [
             1,
             "#276419"
            ]
           ],
           "sequential": [
            [
             0,
             "#0d0887"
            ],
            [
             0.1111111111111111,
             "#46039f"
            ],
            [
             0.2222222222222222,
             "#7201a8"
            ],
            [
             0.3333333333333333,
             "#9c179e"
            ],
            [
             0.4444444444444444,
             "#bd3786"
            ],
            [
             0.5555555555555556,
             "#d8576b"
            ],
            [
             0.6666666666666666,
             "#ed7953"
            ],
            [
             0.7777777777777778,
             "#fb9f3a"
            ],
            [
             0.8888888888888888,
             "#fdca26"
            ],
            [
             1,
             "#f0f921"
            ]
           ],
           "sequentialminus": [
            [
             0,
             "#0d0887"
            ],
            [
             0.1111111111111111,
             "#46039f"
            ],
            [
             0.2222222222222222,
             "#7201a8"
            ],
            [
             0.3333333333333333,
             "#9c179e"
            ],
            [
             0.4444444444444444,
             "#bd3786"
            ],
            [
             0.5555555555555556,
             "#d8576b"
            ],
            [
             0.6666666666666666,
             "#ed7953"
            ],
            [
             0.7777777777777778,
             "#fb9f3a"
            ],
            [
             0.8888888888888888,
             "#fdca26"
            ],
            [
             1,
             "#f0f921"
            ]
           ]
          },
          "colorway": [
           "#636efa",
           "#EF553B",
           "#00cc96",
           "#ab63fa",
           "#FFA15A",
           "#19d3f3",
           "#FF6692",
           "#B6E880",
           "#FF97FF",
           "#FECB52"
          ],
          "font": {
           "color": "#2a3f5f"
          },
          "geo": {
           "bgcolor": "white",
           "lakecolor": "white",
           "landcolor": "#E5ECF6",
           "showlakes": true,
           "showland": true,
           "subunitcolor": "white"
          },
          "hoverlabel": {
           "align": "left"
          },
          "hovermode": "closest",
          "mapbox": {
           "style": "light"
          },
          "paper_bgcolor": "white",
          "plot_bgcolor": "#E5ECF6",
          "polar": {
           "angularaxis": {
            "gridcolor": "white",
            "linecolor": "white",
            "ticks": ""
           },
           "bgcolor": "#E5ECF6",
           "radialaxis": {
            "gridcolor": "white",
            "linecolor": "white",
            "ticks": ""
           }
          },
          "scene": {
           "xaxis": {
            "backgroundcolor": "#E5ECF6",
            "gridcolor": "white",
            "gridwidth": 2,
            "linecolor": "white",
            "showbackground": true,
            "ticks": "",
            "zerolinecolor": "white"
           },
           "yaxis": {
            "backgroundcolor": "#E5ECF6",
            "gridcolor": "white",
            "gridwidth": 2,
            "linecolor": "white",
            "showbackground": true,
            "ticks": "",
            "zerolinecolor": "white"
           },
           "zaxis": {
            "backgroundcolor": "#E5ECF6",
            "gridcolor": "white",
            "gridwidth": 2,
            "linecolor": "white",
            "showbackground": true,
            "ticks": "",
            "zerolinecolor": "white"
           }
          },
          "shapedefaults": {
           "line": {
            "color": "#2a3f5f"
           }
          },
          "ternary": {
           "aaxis": {
            "gridcolor": "white",
            "linecolor": "white",
            "ticks": ""
           },
           "baxis": {
            "gridcolor": "white",
            "linecolor": "white",
            "ticks": ""
           },
           "bgcolor": "#E5ECF6",
           "caxis": {
            "gridcolor": "white",
            "linecolor": "white",
            "ticks": ""
           }
          },
          "title": {
           "x": 0.05
          },
          "xaxis": {
           "automargin": true,
           "gridcolor": "white",
           "linecolor": "white",
           "ticks": "",
           "title": {
            "standoff": 15
           },
           "zerolinecolor": "white",
           "zerolinewidth": 2
          },
          "yaxis": {
           "automargin": true,
           "gridcolor": "white",
           "linecolor": "white",
           "ticks": "",
           "title": {
            "standoff": 15
           },
           "zerolinecolor": "white",
           "zerolinewidth": 2
          }
         }
        }
       }
      },
      "text/html": [
       "<div>                            <div id=\"b3c6456a-4e6b-4396-b3a5-5b4d607e9df4\" class=\"plotly-graph-div\" style=\"height:525px; width:100%;\"></div>            <script type=\"text/javascript\">                require([\"plotly\"], function(Plotly) {                    window.PLOTLYENV=window.PLOTLYENV || {};                                    if (document.getElementById(\"b3c6456a-4e6b-4396-b3a5-5b4d607e9df4\")) {                    Plotly.newPlot(                        \"b3c6456a-4e6b-4396-b3a5-5b4d607e9df4\",                        [{\"ids\":[\"Tokino Sora\",\"Hoshimachi Suisei\",\"Roboco-san\",\"AZKi\",\"Yozora Mel\",\"Natsuiro Matsuri\",\"Akai Haato\",\"Aki Rosenthal\",\"Shirakami Fubuki\",\"Minato Aqua\",\"Murasaki Shion\",\"Nakiri Ayame\",\"Yuzuki Choco\",\"Oozora Subaru\",\"Ookami Mio\",\"Sakura Miko\",\"Nekomata Okayu\",\"Inugami Korone\",\"Uruha Rushia\",\"Usada Pekora\",\"Houshou Marine\",\"Shirogane Noel\",\"Shiranui Flare\",\"Tsunamaki Watame\",\"Tokoyami Towa\",\"Kiryu Coco\",\"Amane Kanata\",\"Himemori Luna\",\"Yukihana Lamy\",\"Momosuzu Nene\",\"Shishiro Botan\",\"Omaru Polka\",\"Ayunda Risu\",\"Moona Hoshinova\",\"Airani Iofifteen\",\"Kureiji Ollie\",\"Anya Melfissa\",\"Pavolia Reine\",\"Mori Calliope\",\"Takanashi Kiara\",\"Ninomae Ina'nis \",\"Gawr Gura\",\"Watson Amelia\",\"IRyS\",\"Tsukumo Sana\",\"Ceres Fauna\",\"Ouro Kronii\",\"Nanashi Mumei\",\"Hakos Baelz\"],\"labels\":[\"Tokino Sora\",\"Hoshimachi Suisei\",\"Roboco-san\",\"AZKi\",\"Yozora Mel\",\"Natsuiro Matsuri\",\"Akai Haato\",\"Aki Rosenthal\",\"Shirakami Fubuki\",\"Minato Aqua\",\"Murasaki Shion\",\"Nakiri Ayame\",\"Yuzuki Choco\",\"Oozora Subaru\",\"Ookami Mio\",\"Sakura Miko\",\"Nekomata Okayu\",\"Inugami Korone\",\"Uruha Rushia\",\"Usada Pekora\",\"Houshou Marine\",\"Shirogane Noel\",\"Shiranui Flare\",\"Tsunamaki Watame\",\"Tokoyami Towa\",\"Kiryu Coco\",\"Amane Kanata\",\"Himemori Luna\",\"Yukihana Lamy\",\"Momosuzu Nene\",\"Shishiro Botan\",\"Omaru Polka\",\"Ayunda Risu\",\"Moona Hoshinova\",\"Airani Iofifteen\",\"Kureiji Ollie\",\"Anya Melfissa\",\"Pavolia Reine\",\"Mori Calliope\",\"Takanashi Kiara\",\"Ninomae Ina'nis \",\"Gawr Gura\",\"Watson Amelia\",\"IRyS\",\"Tsukumo Sana\",\"Ceres Fauna\",\"Ouro Kronii\",\"Nanashi Mumei\",\"Hakos Baelz\"],\"parents\":[\"JP\",\"JP\",\"JP\",\"JP\",\"JP\",\"JP\",\"JP\",\"JP\",\"JP\",\"JP\",\"JP\",\"JP\",\"JP\",\"JP\",\"JP\",\"JP\",\"JP\",\"JP\",\"JP\",\"JP\",\"JP\",\"JP\",\"JP\",\"JP\",\"JP\",\"JP\",\"JP\",\"JP\",\"JP\",\"JP\",\"JP\",\"JP\",\"ID\",\"ID\",\"ID\",\"ID\",\"ID\",\"ID\",\"EN\",\"EN\",\"EN\",\"EN\",\"EN\",\"EN\",\"EN\",\"EN\",\"EN\",\"EN\",\"EN\"],\"type\":\"icicle\"}],                        {\"template\":{\"data\":{\"bar\":[{\"error_x\":{\"color\":\"#2a3f5f\"},\"error_y\":{\"color\":\"#2a3f5f\"},\"marker\":{\"line\":{\"color\":\"#E5ECF6\",\"width\":0.5},\"pattern\":{\"fillmode\":\"overlay\",\"size\":10,\"solidity\":0.2}},\"type\":\"bar\"}],\"barpolar\":[{\"marker\":{\"line\":{\"color\":\"#E5ECF6\",\"width\":0.5},\"pattern\":{\"fillmode\":\"overlay\",\"size\":10,\"solidity\":0.2}},\"type\":\"barpolar\"}],\"carpet\":[{\"aaxis\":{\"endlinecolor\":\"#2a3f5f\",\"gridcolor\":\"white\",\"linecolor\":\"white\",\"minorgridcolor\":\"white\",\"startlinecolor\":\"#2a3f5f\"},\"baxis\":{\"endlinecolor\":\"#2a3f5f\",\"gridcolor\":\"white\",\"linecolor\":\"white\",\"minorgridcolor\":\"white\",\"startlinecolor\":\"#2a3f5f\"},\"type\":\"carpet\"}],\"choropleth\":[{\"colorbar\":{\"outlinewidth\":0,\"ticks\":\"\"},\"type\":\"choropleth\"}],\"contour\":[{\"colorbar\":{\"outlinewidth\":0,\"ticks\":\"\"},\"colorscale\":[[0.0,\"#0d0887\"],[0.1111111111111111,\"#46039f\"],[0.2222222222222222,\"#7201a8\"],[0.3333333333333333,\"#9c179e\"],[0.4444444444444444,\"#bd3786\"],[0.5555555555555556,\"#d8576b\"],[0.6666666666666666,\"#ed7953\"],[0.7777777777777778,\"#fb9f3a\"],[0.8888888888888888,\"#fdca26\"],[1.0,\"#f0f921\"]],\"type\":\"contour\"}],\"contourcarpet\":[{\"colorbar\":{\"outlinewidth\":0,\"ticks\":\"\"},\"type\":\"contourcarpet\"}],\"heatmap\":[{\"colorbar\":{\"outlinewidth\":0,\"ticks\":\"\"},\"colorscale\":[[0.0,\"#0d0887\"],[0.1111111111111111,\"#46039f\"],[0.2222222222222222,\"#7201a8\"],[0.3333333333333333,\"#9c179e\"],[0.4444444444444444,\"#bd3786\"],[0.5555555555555556,\"#d8576b\"],[0.6666666666666666,\"#ed7953\"],[0.7777777777777778,\"#fb9f3a\"],[0.8888888888888888,\"#fdca26\"],[1.0,\"#f0f921\"]],\"type\":\"heatmap\"}],\"heatmapgl\":[{\"colorbar\":{\"outlinewidth\":0,\"ticks\":\"\"},\"colorscale\":[[0.0,\"#0d0887\"],[0.1111111111111111,\"#46039f\"],[0.2222222222222222,\"#7201a8\"],[0.3333333333333333,\"#9c179e\"],[0.4444444444444444,\"#bd3786\"],[0.5555555555555556,\"#d8576b\"],[0.6666666666666666,\"#ed7953\"],[0.7777777777777778,\"#fb9f3a\"],[0.8888888888888888,\"#fdca26\"],[1.0,\"#f0f921\"]],\"type\":\"heatmapgl\"}],\"histogram\":[{\"marker\":{\"pattern\":{\"fillmode\":\"overlay\",\"size\":10,\"solidity\":0.2}},\"type\":\"histogram\"}],\"histogram2d\":[{\"colorbar\":{\"outlinewidth\":0,\"ticks\":\"\"},\"colorscale\":[[0.0,\"#0d0887\"],[0.1111111111111111,\"#46039f\"],[0.2222222222222222,\"#7201a8\"],[0.3333333333333333,\"#9c179e\"],[0.4444444444444444,\"#bd3786\"],[0.5555555555555556,\"#d8576b\"],[0.6666666666666666,\"#ed7953\"],[0.7777777777777778,\"#fb9f3a\"],[0.8888888888888888,\"#fdca26\"],[1.0,\"#f0f921\"]],\"type\":\"histogram2d\"}],\"histogram2dcontour\":[{\"colorbar\":{\"outlinewidth\":0,\"ticks\":\"\"},\"colorscale\":[[0.0,\"#0d0887\"],[0.1111111111111111,\"#46039f\"],[0.2222222222222222,\"#7201a8\"],[0.3333333333333333,\"#9c179e\"],[0.4444444444444444,\"#bd3786\"],[0.5555555555555556,\"#d8576b\"],[0.6666666666666666,\"#ed7953\"],[0.7777777777777778,\"#fb9f3a\"],[0.8888888888888888,\"#fdca26\"],[1.0,\"#f0f921\"]],\"type\":\"histogram2dcontour\"}],\"mesh3d\":[{\"colorbar\":{\"outlinewidth\":0,\"ticks\":\"\"},\"type\":\"mesh3d\"}],\"parcoords\":[{\"line\":{\"colorbar\":{\"outlinewidth\":0,\"ticks\":\"\"}},\"type\":\"parcoords\"}],\"pie\":[{\"automargin\":true,\"type\":\"pie\"}],\"scatter\":[{\"marker\":{\"colorbar\":{\"outlinewidth\":0,\"ticks\":\"\"}},\"type\":\"scatter\"}],\"scatter3d\":[{\"line\":{\"colorbar\":{\"outlinewidth\":0,\"ticks\":\"\"}},\"marker\":{\"colorbar\":{\"outlinewidth\":0,\"ticks\":\"\"}},\"type\":\"scatter3d\"}],\"scattercarpet\":[{\"marker\":{\"colorbar\":{\"outlinewidth\":0,\"ticks\":\"\"}},\"type\":\"scattercarpet\"}],\"scattergeo\":[{\"marker\":{\"colorbar\":{\"outlinewidth\":0,\"ticks\":\"\"}},\"type\":\"scattergeo\"}],\"scattergl\":[{\"marker\":{\"colorbar\":{\"outlinewidth\":0,\"ticks\":\"\"}},\"type\":\"scattergl\"}],\"scattermapbox\":[{\"marker\":{\"colorbar\":{\"outlinewidth\":0,\"ticks\":\"\"}},\"type\":\"scattermapbox\"}],\"scatterpolar\":[{\"marker\":{\"colorbar\":{\"outlinewidth\":0,\"ticks\":\"\"}},\"type\":\"scatterpolar\"}],\"scatterpolargl\":[{\"marker\":{\"colorbar\":{\"outlinewidth\":0,\"ticks\":\"\"}},\"type\":\"scatterpolargl\"}],\"scatterternary\":[{\"marker\":{\"colorbar\":{\"outlinewidth\":0,\"ticks\":\"\"}},\"type\":\"scatterternary\"}],\"surface\":[{\"colorbar\":{\"outlinewidth\":0,\"ticks\":\"\"},\"colorscale\":[[0.0,\"#0d0887\"],[0.1111111111111111,\"#46039f\"],[0.2222222222222222,\"#7201a8\"],[0.3333333333333333,\"#9c179e\"],[0.4444444444444444,\"#bd3786\"],[0.5555555555555556,\"#d8576b\"],[0.6666666666666666,\"#ed7953\"],[0.7777777777777778,\"#fb9f3a\"],[0.8888888888888888,\"#fdca26\"],[1.0,\"#f0f921\"]],\"type\":\"surface\"}],\"table\":[{\"cells\":{\"fill\":{\"color\":\"#EBF0F8\"},\"line\":{\"color\":\"white\"}},\"header\":{\"fill\":{\"color\":\"#C8D4E3\"},\"line\":{\"color\":\"white\"}},\"type\":\"table\"}]},\"layout\":{\"annotationdefaults\":{\"arrowcolor\":\"#2a3f5f\",\"arrowhead\":0,\"arrowwidth\":1},\"autotypenumbers\":\"strict\",\"coloraxis\":{\"colorbar\":{\"outlinewidth\":0,\"ticks\":\"\"}},\"colorscale\":{\"diverging\":[[0,\"#8e0152\"],[0.1,\"#c51b7d\"],[0.2,\"#de77ae\"],[0.3,\"#f1b6da\"],[0.4,\"#fde0ef\"],[0.5,\"#f7f7f7\"],[0.6,\"#e6f5d0\"],[0.7,\"#b8e186\"],[0.8,\"#7fbc41\"],[0.9,\"#4d9221\"],[1,\"#276419\"]],\"sequential\":[[0.0,\"#0d0887\"],[0.1111111111111111,\"#46039f\"],[0.2222222222222222,\"#7201a8\"],[0.3333333333333333,\"#9c179e\"],[0.4444444444444444,\"#bd3786\"],[0.5555555555555556,\"#d8576b\"],[0.6666666666666666,\"#ed7953\"],[0.7777777777777778,\"#fb9f3a\"],[0.8888888888888888,\"#fdca26\"],[1.0,\"#f0f921\"]],\"sequentialminus\":[[0.0,\"#0d0887\"],[0.1111111111111111,\"#46039f\"],[0.2222222222222222,\"#7201a8\"],[0.3333333333333333,\"#9c179e\"],[0.4444444444444444,\"#bd3786\"],[0.5555555555555556,\"#d8576b\"],[0.6666666666666666,\"#ed7953\"],[0.7777777777777778,\"#fb9f3a\"],[0.8888888888888888,\"#fdca26\"],[1.0,\"#f0f921\"]]},\"colorway\":[\"#636efa\",\"#EF553B\",\"#00cc96\",\"#ab63fa\",\"#FFA15A\",\"#19d3f3\",\"#FF6692\",\"#B6E880\",\"#FF97FF\",\"#FECB52\"],\"font\":{\"color\":\"#2a3f5f\"},\"geo\":{\"bgcolor\":\"white\",\"lakecolor\":\"white\",\"landcolor\":\"#E5ECF6\",\"showlakes\":true,\"showland\":true,\"subunitcolor\":\"white\"},\"hoverlabel\":{\"align\":\"left\"},\"hovermode\":\"closest\",\"mapbox\":{\"style\":\"light\"},\"paper_bgcolor\":\"white\",\"plot_bgcolor\":\"#E5ECF6\",\"polar\":{\"angularaxis\":{\"gridcolor\":\"white\",\"linecolor\":\"white\",\"ticks\":\"\"},\"bgcolor\":\"#E5ECF6\",\"radialaxis\":{\"gridcolor\":\"white\",\"linecolor\":\"white\",\"ticks\":\"\"}},\"scene\":{\"xaxis\":{\"backgroundcolor\":\"#E5ECF6\",\"gridcolor\":\"white\",\"gridwidth\":2,\"linecolor\":\"white\",\"showbackground\":true,\"ticks\":\"\",\"zerolinecolor\":\"white\"},\"yaxis\":{\"backgroundcolor\":\"#E5ECF6\",\"gridcolor\":\"white\",\"gridwidth\":2,\"linecolor\":\"white\",\"showbackground\":true,\"ticks\":\"\",\"zerolinecolor\":\"white\"},\"zaxis\":{\"backgroundcolor\":\"#E5ECF6\",\"gridcolor\":\"white\",\"gridwidth\":2,\"linecolor\":\"white\",\"showbackground\":true,\"ticks\":\"\",\"zerolinecolor\":\"white\"}},\"shapedefaults\":{\"line\":{\"color\":\"#2a3f5f\"}},\"ternary\":{\"aaxis\":{\"gridcolor\":\"white\",\"linecolor\":\"white\",\"ticks\":\"\"},\"baxis\":{\"gridcolor\":\"white\",\"linecolor\":\"white\",\"ticks\":\"\"},\"bgcolor\":\"#E5ECF6\",\"caxis\":{\"gridcolor\":\"white\",\"linecolor\":\"white\",\"ticks\":\"\"}},\"title\":{\"x\":0.05},\"xaxis\":{\"automargin\":true,\"gridcolor\":\"white\",\"linecolor\":\"white\",\"ticks\":\"\",\"title\":{\"standoff\":15},\"zerolinecolor\":\"white\",\"zerolinewidth\":2},\"yaxis\":{\"automargin\":true,\"gridcolor\":\"white\",\"linecolor\":\"white\",\"ticks\":\"\",\"title\":{\"standoff\":15},\"zerolinecolor\":\"white\",\"zerolinewidth\":2}}}},                        {\"responsive\": true}                    ).then(function(){\n",
       "                            \n",
       "var gd = document.getElementById('b3c6456a-4e6b-4396-b3a5-5b4d607e9df4');\n",
       "var x = new MutationObserver(function (mutations, observer) {{\n",
       "        var display = window.getComputedStyle(gd).display;\n",
       "        if (!display || display === 'none') {{\n",
       "            console.log([gd, 'removed!']);\n",
       "            Plotly.purge(gd);\n",
       "            observer.disconnect();\n",
       "        }}\n",
       "}});\n",
       "\n",
       "// Listen for the removal of the full notebook cells\n",
       "var notebookContainer = gd.closest('#notebook-container');\n",
       "if (notebookContainer) {{\n",
       "    x.observe(notebookContainer, {childList: true});\n",
       "}}\n",
       "\n",
       "// Listen for the clearing of the current output cell\n",
       "var outputEl = gd.closest('.output');\n",
       "if (outputEl) {{\n",
       "    x.observe(outputEl, {childList: true});\n",
       "}}\n",
       "\n",
       "                        })                };                });            </script>        </div>"
      ]
     },
     "metadata": {},
     "output_type": "display_data"
    }
   ],
   "source": [
    "fig = go.Figure()\n",
    "fig.add_trace(\n",
    "    go.Icicle(\n",
    "        ids=channel.full_name,\n",
    "        labels=channel.full_name,\n",
    "        parents=channel.branch,\n",
    "#         values = channel.subscribers\n",
    "    )\n",
    ")\n",
    "fig.show()"
   ]
  },
  {
   "cell_type": "code",
   "execution_count": 14,
   "id": "d20e8ae2",
   "metadata": {},
   "outputs": [
    {
     "data": {
      "text/plain": [
       "0     JP\n",
       "1     JP\n",
       "2     JP\n",
       "3     JP\n",
       "4     JP\n",
       "5     JP\n",
       "6     JP\n",
       "7     JP\n",
       "8     JP\n",
       "9     JP\n",
       "10    JP\n",
       "11    JP\n",
       "12    JP\n",
       "13    JP\n",
       "14    JP\n",
       "15    JP\n",
       "16    JP\n",
       "17    JP\n",
       "18    JP\n",
       "19    JP\n",
       "20    JP\n",
       "21    JP\n",
       "22    JP\n",
       "23    JP\n",
       "24    JP\n",
       "25    JP\n",
       "26    JP\n",
       "27    JP\n",
       "28    JP\n",
       "29    JP\n",
       "30    JP\n",
       "31    JP\n",
       "32    ID\n",
       "33    ID\n",
       "34    ID\n",
       "35    ID\n",
       "36    ID\n",
       "37    ID\n",
       "38    EN\n",
       "39    EN\n",
       "40    EN\n",
       "41    EN\n",
       "42    EN\n",
       "43    EN\n",
       "44    EN\n",
       "45    EN\n",
       "46    EN\n",
       "47    EN\n",
       "48    EN\n",
       "Name: branch, dtype: object"
      ]
     },
     "execution_count": 14,
     "metadata": {},
     "output_type": "execute_result"
    }
   ],
   "source": [
    "channel.branch"
   ]
  },
  {
   "cell_type": "code",
   "execution_count": null,
   "id": "7ba0f53f",
   "metadata": {},
   "outputs": [],
   "source": []
  }
 ],
 "metadata": {
  "kernelspec": {
   "display_name": "Python 3",
   "language": "python",
   "name": "python3"
  },
  "language_info": {
   "codemirror_mode": {
    "name": "ipython",
    "version": 3
   },
   "file_extension": ".py",
   "mimetype": "text/x-python",
   "name": "python",
   "nbconvert_exporter": "python",
   "pygments_lexer": "ipython3",
   "version": "3.8.8"
  }
 },
 "nbformat": 4,
 "nbformat_minor": 5
}
