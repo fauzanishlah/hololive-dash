{
 "cells": [
  {
   "cell_type": "markdown",
   "id": "90f71d88",
   "metadata": {},
   "source": [
    "# Scrapping Youtube Data with Youtube API"
   ]
  },
  {
   "cell_type": "markdown",
   "id": "c5c1381a",
   "metadata": {},
   "source": [
    "## Setup"
   ]
  },
  {
   "cell_type": "markdown",
   "id": "c6a84246",
   "metadata": {},
   "source": [
    "### Library"
   ]
  },
  {
   "cell_type": "code",
   "execution_count": 1,
   "id": "7659b1d0",
   "metadata": {},
   "outputs": [],
   "source": [
    "import configparser\n",
    "from googleapiclient.discovery import build\n",
    "import pandas as pd"
   ]
  },
  {
   "cell_type": "markdown",
   "id": "bffc4b3f",
   "metadata": {},
   "source": [
    "### Important Variables"
   ]
  },
  {
   "cell_type": "code",
   "execution_count": 2,
   "id": "99cc6458",
   "metadata": {},
   "outputs": [],
   "source": [
    "config_file = 'youtube.ini'\n",
    "config = configparser.ConfigParser()\n",
    "config.read(config_file)\n",
    "API_KEY = config['youtube']['api_key']"
   ]
  },
  {
   "cell_type": "code",
   "execution_count": 3,
   "id": "045f3ebc",
   "metadata": {},
   "outputs": [],
   "source": [
    "basic_file = 'hololive.xlsx'\n",
    "df_basic = pd.read_excel(basic_file)\n",
    "channels = df_basic['channel_id']"
   ]
  },
  {
   "cell_type": "markdown",
   "id": "58aebc05",
   "metadata": {},
   "source": [
    "### Request to Youtube API"
   ]
  },
  {
   "cell_type": "code",
   "execution_count": 4,
   "id": "0b04a227",
   "metadata": {},
   "outputs": [],
   "source": [
    "service_name = 'youtube'\n",
    "service_version = 'v3'\n",
    "\n",
    "youtube = build(serviceName=service_name, version=service_version, developerKey=API_KEY)"
   ]
  },
  {
   "cell_type": "markdown",
   "id": "155b1e1a",
   "metadata": {},
   "source": [
    "### Request Channels Info"
   ]
  },
  {
   "cell_type": "code",
   "execution_count": 5,
   "id": "cf18f401",
   "metadata": {},
   "outputs": [],
   "source": [
    "request = youtube.channels().list(\n",
    "        part = \"id,snippet,contentDetails,statistics\",\n",
    "        id = ','.join(channels)\n",
    "    )\n",
    "response = request.execute()"
   ]
  },
  {
   "cell_type": "markdown",
   "id": "3c483e15",
   "metadata": {},
   "source": [
    "### Select Data from Response "
   ]
  },
  {
   "cell_type": "code",
   "execution_count": 6,
   "id": "e3b5316a",
   "metadata": {},
   "outputs": [],
   "source": [
    "all_data = []\n",
    "\n",
    "for respon in response['items']:\n",
    "        data = dict(\n",
    "            channel_id = respon['id'],\n",
    "            channel_name = respon['snippet']['title'],\n",
    "            subscribers = respon['statistics']['subscriberCount'],\n",
    "            views = respon['statistics']['viewCount'],\n",
    "            total_videos = respon['statistics']['videoCount'],\n",
    "            playlist_id =respon['contentDetails']['relatedPlaylists']['uploads']\n",
    "        )\n",
    "        all_data.append(data)"
   ]
  },
  {
   "cell_type": "code",
   "execution_count": 7,
   "id": "0462e765",
   "metadata": {},
   "outputs": [
    {
     "data": {
      "text/html": [
       "<div>\n",
       "<style scoped>\n",
       "    .dataframe tbody tr th:only-of-type {\n",
       "        vertical-align: middle;\n",
       "    }\n",
       "\n",
       "    .dataframe tbody tr th {\n",
       "        vertical-align: top;\n",
       "    }\n",
       "\n",
       "    .dataframe thead th {\n",
       "        text-align: right;\n",
       "    }\n",
       "</style>\n",
       "<table border=\"1\" class=\"dataframe\">\n",
       "  <thead>\n",
       "    <tr style=\"text-align: right;\">\n",
       "      <th></th>\n",
       "      <th>channel_id</th>\n",
       "      <th>channel_name</th>\n",
       "      <th>subscribers</th>\n",
       "      <th>views</th>\n",
       "      <th>total_videos</th>\n",
       "      <th>playlist_id</th>\n",
       "    </tr>\n",
       "  </thead>\n",
       "  <tbody>\n",
       "    <tr>\n",
       "      <th>0</th>\n",
       "      <td>UCl_gCybOJRIgOXw6Qb4qJzQ</td>\n",
       "      <td>Rushia Ch. 潤羽るしあ</td>\n",
       "      <td>1450000</td>\n",
       "      <td>124020285</td>\n",
       "      <td>403</td>\n",
       "      <td>UUl_gCybOJRIgOXw6Qb4qJzQ</td>\n",
       "    </tr>\n",
       "    <tr>\n",
       "      <th>1</th>\n",
       "      <td>UCP0BspO_AMEe3aQqqpo89Dg</td>\n",
       "      <td>Moona Hoshinova hololive-ID</td>\n",
       "      <td>911000</td>\n",
       "      <td>43805860</td>\n",
       "      <td>317</td>\n",
       "      <td>UUP0BspO_AMEe3aQqqpo89Dg</td>\n",
       "    </tr>\n",
       "    <tr>\n",
       "      <th>2</th>\n",
       "      <td>UCL_qhgtOy0dy1Agp8vkySQg</td>\n",
       "      <td>Mori Calliope Ch. hololive-EN</td>\n",
       "      <td>1770000</td>\n",
       "      <td>199723483</td>\n",
       "      <td>336</td>\n",
       "      <td>UUL_qhgtOy0dy1Agp8vkySQg</td>\n",
       "    </tr>\n",
       "    <tr>\n",
       "      <th>3</th>\n",
       "      <td>UCoSrY_IQQVpmIRZ9Xf-y93g</td>\n",
       "      <td>Gawr Gura Ch. hololive-EN</td>\n",
       "      <td>3550000</td>\n",
       "      <td>198246837</td>\n",
       "      <td>251</td>\n",
       "      <td>UUoSrY_IQQVpmIRZ9Xf-y93g</td>\n",
       "    </tr>\n",
       "    <tr>\n",
       "      <th>4</th>\n",
       "      <td>UCXTpFs_3PqI41qX2d9tL2Rw</td>\n",
       "      <td>Shion Ch. 紫咲シオン</td>\n",
       "      <td>904000</td>\n",
       "      <td>79195197</td>\n",
       "      <td>378</td>\n",
       "      <td>UUXTpFs_3PqI41qX2d9tL2Rw</td>\n",
       "    </tr>\n",
       "  </tbody>\n",
       "</table>\n",
       "</div>"
      ],
      "text/plain": [
       "                 channel_id                   channel_name subscribers  \\\n",
       "0  UCl_gCybOJRIgOXw6Qb4qJzQ               Rushia Ch. 潤羽るしあ     1450000   \n",
       "1  UCP0BspO_AMEe3aQqqpo89Dg    Moona Hoshinova hololive-ID      911000   \n",
       "2  UCL_qhgtOy0dy1Agp8vkySQg  Mori Calliope Ch. hololive-EN     1770000   \n",
       "3  UCoSrY_IQQVpmIRZ9Xf-y93g      Gawr Gura Ch. hololive-EN     3550000   \n",
       "4  UCXTpFs_3PqI41qX2d9tL2Rw                Shion Ch. 紫咲シオン      904000   \n",
       "\n",
       "       views total_videos               playlist_id  \n",
       "0  124020285          403  UUl_gCybOJRIgOXw6Qb4qJzQ  \n",
       "1   43805860          317  UUP0BspO_AMEe3aQqqpo89Dg  \n",
       "2  199723483          336  UUL_qhgtOy0dy1Agp8vkySQg  \n",
       "3  198246837          251  UUoSrY_IQQVpmIRZ9Xf-y93g  \n",
       "4   79195197          378  UUXTpFs_3PqI41qX2d9tL2Rw  "
      ]
     },
     "execution_count": 7,
     "metadata": {},
     "output_type": "execute_result"
    }
   ],
   "source": [
    "df_holo = pd.DataFrame(all_data)\n",
    "df_holo.head()"
   ]
  },
  {
   "cell_type": "markdown",
   "id": "478aa895",
   "metadata": {},
   "source": [
    "### Merge Basic Info Data with Scrapped Data from Youtube"
   ]
  },
  {
   "cell_type": "code",
   "execution_count": 11,
   "id": "fa2a2b52",
   "metadata": {},
   "outputs": [],
   "source": [
    "df = pd.merge(df_basic, df_holo, on=\"channel_id\")"
   ]
  },
  {
   "cell_type": "code",
   "execution_count": 12,
   "id": "c919d151",
   "metadata": {},
   "outputs": [
    {
     "data": {
      "text/html": [
       "<div>\n",
       "<style scoped>\n",
       "    .dataframe tbody tr th:only-of-type {\n",
       "        vertical-align: middle;\n",
       "    }\n",
       "\n",
       "    .dataframe tbody tr th {\n",
       "        vertical-align: top;\n",
       "    }\n",
       "\n",
       "    .dataframe thead th {\n",
       "        text-align: right;\n",
       "    }\n",
       "</style>\n",
       "<table border=\"1\" class=\"dataframe\">\n",
       "  <thead>\n",
       "    <tr style=\"text-align: right;\">\n",
       "      <th></th>\n",
       "      <th>nick_name</th>\n",
       "      <th>full_name</th>\n",
       "      <th>branch</th>\n",
       "      <th>gen</th>\n",
       "      <th>channel_id</th>\n",
       "      <th>channel_name</th>\n",
       "      <th>subscribers</th>\n",
       "      <th>views</th>\n",
       "      <th>total_videos</th>\n",
       "      <th>playlist_id</th>\n",
       "    </tr>\n",
       "  </thead>\n",
       "  <tbody>\n",
       "    <tr>\n",
       "      <th>0</th>\n",
       "      <td>Sora</td>\n",
       "      <td>Tokino Sora</td>\n",
       "      <td>JP</td>\n",
       "      <td>JP-0</td>\n",
       "      <td>UCp6993wxpyDPHUpavwDFqgg</td>\n",
       "      <td>SoraCh. ときのそらチャンネル</td>\n",
       "      <td>880000</td>\n",
       "      <td>73798412</td>\n",
       "      <td>502</td>\n",
       "      <td>UUp6993wxpyDPHUpavwDFqgg</td>\n",
       "    </tr>\n",
       "    <tr>\n",
       "      <th>1</th>\n",
       "      <td>Suisei</td>\n",
       "      <td>Hoshimachi Suisei</td>\n",
       "      <td>JP</td>\n",
       "      <td>JP-0</td>\n",
       "      <td>UC5CwaMl1eIgY8h02uZw7u8A</td>\n",
       "      <td>Suisei Channel</td>\n",
       "      <td>1200000</td>\n",
       "      <td>170144931</td>\n",
       "      <td>416</td>\n",
       "      <td>UU5CwaMl1eIgY8h02uZw7u8A</td>\n",
       "    </tr>\n",
       "    <tr>\n",
       "      <th>2</th>\n",
       "      <td>Roboco</td>\n",
       "      <td>Roboco-san</td>\n",
       "      <td>JP</td>\n",
       "      <td>JP-0</td>\n",
       "      <td>UCDqI2jOz0weumE8s7paEk6g</td>\n",
       "      <td>Roboco Ch. - ロボ子</td>\n",
       "      <td>765000</td>\n",
       "      <td>54335853</td>\n",
       "      <td>821</td>\n",
       "      <td>UUDqI2jOz0weumE8s7paEk6g</td>\n",
       "    </tr>\n",
       "    <tr>\n",
       "      <th>3</th>\n",
       "      <td>Azki</td>\n",
       "      <td>AZKi</td>\n",
       "      <td>JP</td>\n",
       "      <td>JP-0</td>\n",
       "      <td>UC0TXe_LYZ4scaW2XMyi5_kw</td>\n",
       "      <td>AZKi Channel</td>\n",
       "      <td>530000</td>\n",
       "      <td>23188749</td>\n",
       "      <td>209</td>\n",
       "      <td>UU0TXe_LYZ4scaW2XMyi5_kw</td>\n",
       "    </tr>\n",
       "    <tr>\n",
       "      <th>4</th>\n",
       "      <td>Mel</td>\n",
       "      <td>Yozora Mel</td>\n",
       "      <td>JP</td>\n",
       "      <td>JP-1</td>\n",
       "      <td>UCD8HOxPs4Xvsm8H0ZxXGiBw</td>\n",
       "      <td>Mel Channel 夜空メルチャンネル</td>\n",
       "      <td>631000</td>\n",
       "      <td>17007371</td>\n",
       "      <td>185</td>\n",
       "      <td>UUD8HOxPs4Xvsm8H0ZxXGiBw</td>\n",
       "    </tr>\n",
       "  </tbody>\n",
       "</table>\n",
       "</div>"
      ],
      "text/plain": [
       "  nick_name          full_name branch   gen                channel_id  \\\n",
       "0      Sora        Tokino Sora     JP  JP-0  UCp6993wxpyDPHUpavwDFqgg   \n",
       "1    Suisei  Hoshimachi Suisei     JP  JP-0  UC5CwaMl1eIgY8h02uZw7u8A   \n",
       "2    Roboco         Roboco-san     JP  JP-0  UCDqI2jOz0weumE8s7paEk6g   \n",
       "3      Azki               AZKi     JP  JP-0  UC0TXe_LYZ4scaW2XMyi5_kw   \n",
       "4       Mel         Yozora Mel     JP  JP-1  UCD8HOxPs4Xvsm8H0ZxXGiBw   \n",
       "\n",
       "            channel_name  subscribers      views  total_videos  \\\n",
       "0     SoraCh. ときのそらチャンネル       880000   73798412           502   \n",
       "1         Suisei Channel      1200000  170144931           416   \n",
       "2       Roboco Ch. - ロボ子       765000   54335853           821   \n",
       "3           AZKi Channel       530000   23188749           209   \n",
       "4  Mel Channel 夜空メルチャンネル       631000   17007371           185   \n",
       "\n",
       "                playlist_id  \n",
       "0  UUp6993wxpyDPHUpavwDFqgg  \n",
       "1  UU5CwaMl1eIgY8h02uZw7u8A  \n",
       "2  UUDqI2jOz0weumE8s7paEk6g  \n",
       "3  UU0TXe_LYZ4scaW2XMyi5_kw  \n",
       "4  UUD8HOxPs4Xvsm8H0ZxXGiBw  "
      ]
     },
     "execution_count": 12,
     "metadata": {},
     "output_type": "execute_result"
    }
   ],
   "source": [
    "# Change the data type to numeric\n",
    "df['subscribers'] = pd.to_numeric(df['subscribers'])\n",
    "df['views'] = pd.to_numeric(df['views'])\n",
    "df['total_videos'] = pd.to_numeric(df['total_videos'])\n",
    "df.head()"
   ]
  },
  {
   "cell_type": "markdown",
   "id": "e473cb8f",
   "metadata": {},
   "source": [
    "### Request Video ID"
   ]
  },
  {
   "cell_type": "code",
   "execution_count": 36,
   "id": "bff91cdc",
   "metadata": {},
   "outputs": [],
   "source": [
    "def get_video_ids(youtube, playlist_id):\n",
    "    \n",
    "    request = youtube.playlistItems().list(\n",
    "                part='contentDetails',\n",
    "                playlistId = playlist_id,\n",
    "                maxResults = 50)\n",
    "    response = request.execute()\n",
    "\n",
    "    video_ids = [item['contentDetails']['videoId'] for item in response['items']]\n",
    "        \n",
    "        \n",
    "    next_page_token = response.get('nextPageToken')\n",
    "    more_pages = True\n",
    "    \n",
    "    while more_pages:\n",
    "        if next_page_token is None:\n",
    "            more_pages = False\n",
    "        else:\n",
    "            request = youtube.playlistItems().list(\n",
    "                        part='contentDetails',\n",
    "                        playlistId = playlist_id,\n",
    "                        maxResults = 50,\n",
    "                        pageToken = next_page_token)\n",
    "            response = request.execute()\n",
    "    \n",
    "            for i in range(len(response['items'])):\n",
    "                video_ids.append(response['items'][i]['contentDetails']['videoId'])\n",
    "            \n",
    "            next_page_token = response.get('nextPageToken')\n",
    "        \n",
    "    return video_ids"
   ]
  },
  {
   "cell_type": "code",
   "execution_count": null,
   "id": "fec52576",
   "metadata": {},
   "outputs": [],
   "source": [
    "vid_ids = [get_video_ids(youtube, playlist) for playlist in df['playlist_id']]"
   ]
  },
  {
   "cell_type": "markdown",
   "id": "42e59b95",
   "metadata": {},
   "source": [
    "### Request Video Info"
   ]
  },
  {
   "cell_type": "code",
   "execution_count": 164,
   "id": "bef403a1",
   "metadata": {},
   "outputs": [],
   "source": [
    "def get_video_details(youtube, playlistid, video_ids, list_stats = []):\n",
    "    all_video_stats = list_stats\n",
    "    \n",
    "    for i in range(0, len(video_ids), 50):\n",
    "        request = youtube.videos().list(\n",
    "                    part='id,contentDetails,snippet,statistics',\n",
    "                    id=','.join(video_ids[i:i+50]))\n",
    "        response = request.execute()\n",
    "        \n",
    "        for video in response['items']:\n",
    "            video_stats = dict(channel_id = playlistid,\n",
    "                               video_id = video['id'],\n",
    "                               title = video['snippet']['title'],\n",
    "                               published_date = video['snippet']['publishedAt'],\n",
    "                               duration = video['contentDetails']['duration'],\n",
    "                               views = video['statistics']['viewCount'],\n",
    "                               comments = video['statistics'].get('commentCount'),\n",
    "                               likes = video['statistics'].get('likeCount'),\n",
    "                               dislikes = video['statistics'].get('dislikeCount'))\n",
    "            all_video_stats.append(video_stats)\n",
    "    \n",
    "    return all_video_stats"
   ]
  },
  {
   "cell_type": "code",
   "execution_count": 165,
   "id": "68d23851",
   "metadata": {
    "scrolled": true
   },
   "outputs": [],
   "source": [
    "data_list =[]\n",
    "for i in range(len(vid_ids)):\n",
    "    data_list = get_video_details(youtube, df.iloc[i]['channel_id'], vid_ids[i], data_list)"
   ]
  },
  {
   "cell_type": "code",
   "execution_count": 166,
   "id": "34d96cae",
   "metadata": {},
   "outputs": [],
   "source": [
    "df_videos = pd.DataFrame(data_list)"
   ]
  },
  {
   "cell_type": "code",
   "execution_count": 167,
   "id": "1efc0516",
   "metadata": {},
   "outputs": [
    {
     "data": {
      "text/html": [
       "<div>\n",
       "<style scoped>\n",
       "    .dataframe tbody tr th:only-of-type {\n",
       "        vertical-align: middle;\n",
       "    }\n",
       "\n",
       "    .dataframe tbody tr th {\n",
       "        vertical-align: top;\n",
       "    }\n",
       "\n",
       "    .dataframe thead th {\n",
       "        text-align: right;\n",
       "    }\n",
       "</style>\n",
       "<table border=\"1\" class=\"dataframe\">\n",
       "  <thead>\n",
       "    <tr style=\"text-align: right;\">\n",
       "      <th></th>\n",
       "      <th>channel_id</th>\n",
       "      <th>video_id</th>\n",
       "      <th>title</th>\n",
       "      <th>published_date</th>\n",
       "      <th>duration</th>\n",
       "      <th>views</th>\n",
       "      <th>comments</th>\n",
       "      <th>likes</th>\n",
       "      <th>dislikes</th>\n",
       "    </tr>\n",
       "  </thead>\n",
       "  <tbody>\n",
       "    <tr>\n",
       "      <th>0</th>\n",
       "      <td>UCp6993wxpyDPHUpavwDFqgg</td>\n",
       "      <td>KJdDlwzvDC8</td>\n",
       "      <td>【あつ森】別荘がつくれる！？早速やっていかないと！！【#ときのそら生放送】</td>\n",
       "      <td>2021-11-07T04:47:18Z</td>\n",
       "      <td>PT2H35M21S</td>\n",
       "      <td>65130</td>\n",
       "      <td>23</td>\n",
       "      <td>8732</td>\n",
       "      <td>15</td>\n",
       "    </tr>\n",
       "    <tr>\n",
       "      <th>1</th>\n",
       "      <td>UCp6993wxpyDPHUpavwDFqgg</td>\n",
       "      <td>9bOom2Gl704</td>\n",
       "      <td>【Minecraft】運動会の練習だ！！！#2【#SorAZ/#ときのそら生放送】</td>\n",
       "      <td>2021-11-04T15:21:35Z</td>\n",
       "      <td>PT1H39M23S</td>\n",
       "      <td>125476</td>\n",
       "      <td>51</td>\n",
       "      <td>11316</td>\n",
       "      <td>7</td>\n",
       "    </tr>\n",
       "    <tr>\n",
       "      <th>2</th>\n",
       "      <td>UCp6993wxpyDPHUpavwDFqgg</td>\n",
       "      <td>I61tJJKVlnc</td>\n",
       "      <td>【#ときのそらガルパ配信中day2】ガルパホロライブカップ！いっぱい遊ぶぞ～</td>\n",
       "      <td>2021-11-03T13:13:40Z</td>\n",
       "      <td>PT1H1M35S</td>\n",
       "      <td>34988</td>\n",
       "      <td>44</td>\n",
       "      <td>5497</td>\n",
       "      <td>6</td>\n",
       "    </tr>\n",
       "    <tr>\n",
       "      <th>3</th>\n",
       "      <td>UCp6993wxpyDPHUpavwDFqgg</td>\n",
       "      <td>oMqH1n9tgPo</td>\n",
       "      <td>【重大発表】ときのそらTheatrical Cover Live『Role:Play』開催決...</td>\n",
       "      <td>2021-11-01T12:06:13Z</td>\n",
       "      <td>PT1H15S</td>\n",
       "      <td>59297</td>\n",
       "      <td>58</td>\n",
       "      <td>8760</td>\n",
       "      <td>6</td>\n",
       "    </tr>\n",
       "    <tr>\n",
       "      <th>4</th>\n",
       "      <td>UCp6993wxpyDPHUpavwDFqgg</td>\n",
       "      <td>E2hTb2IUaNU</td>\n",
       "      <td>【歌枠】ハロウィンだし小物つけながら歌おうかな【＃ときのそら生放送】</td>\n",
       "      <td>2021-10-31T07:35:14Z</td>\n",
       "      <td>PT1H30M11S</td>\n",
       "      <td>60865</td>\n",
       "      <td>81</td>\n",
       "      <td>9857</td>\n",
       "      <td>5</td>\n",
       "    </tr>\n",
       "    <tr>\n",
       "      <th>...</th>\n",
       "      <td>...</td>\n",
       "      <td>...</td>\n",
       "      <td>...</td>\n",
       "      <td>...</td>\n",
       "      <td>...</td>\n",
       "      <td>...</td>\n",
       "      <td>...</td>\n",
       "      <td>...</td>\n",
       "      <td>...</td>\n",
       "    </tr>\n",
       "    <tr>\n",
       "      <th>20528</th>\n",
       "      <td>UCgmPnx-EEeOrZSg5Tiw7ZRQ</td>\n",
       "      <td>olB5J4PfXuc</td>\n",
       "      <td>≪空気読み１＋２＋３≫ 空気を読むネズミの子。GOOD RAT CAN READ ATMOS...</td>\n",
       "      <td>2021-08-26T14:38:47Z</td>\n",
       "      <td>PT2H25M</td>\n",
       "      <td>247523</td>\n",
       "      <td>176</td>\n",
       "      <td>22059</td>\n",
       "      <td>52</td>\n",
       "    </tr>\n",
       "    <tr>\n",
       "      <th>20529</th>\n",
       "      <td>UCgmPnx-EEeOrZSg5Tiw7ZRQ</td>\n",
       "      <td>sfxIojed54Q</td>\n",
       "      <td>《RAT SIMULATOR》- i am one true rat.</td>\n",
       "      <td>2021-08-25T08:09:26Z</td>\n",
       "      <td>PT1H53M5S</td>\n",
       "      <td>378803</td>\n",
       "      <td>381</td>\n",
       "      <td>32785</td>\n",
       "      <td>59</td>\n",
       "    </tr>\n",
       "    <tr>\n",
       "      <th>20530</th>\n",
       "      <td>UCgmPnx-EEeOrZSg5Tiw7ZRQ</td>\n",
       "      <td>W9rAtIytnHk</td>\n",
       "      <td>《CHIT-CHAT》- POST DEBUT Q&amp;A</td>\n",
       "      <td>2021-08-23T11:59:25Z</td>\n",
       "      <td>PT1H22M44S</td>\n",
       "      <td>433954</td>\n",
       "      <td>9</td>\n",
       "      <td>33950</td>\n",
       "      <td>70</td>\n",
       "    </tr>\n",
       "    <tr>\n",
       "      <th>20531</th>\n",
       "      <td>UCgmPnx-EEeOrZSg5Tiw7ZRQ</td>\n",
       "      <td>7S9QhFeGw60</td>\n",
       "      <td>【COUNCIL MEETING】The Council is in SESSION! + ...</td>\n",
       "      <td>2021-08-23T02:12:07Z</td>\n",
       "      <td>PT1H5M</td>\n",
       "      <td>789925</td>\n",
       "      <td>1470</td>\n",
       "      <td>48040</td>\n",
       "      <td>162</td>\n",
       "    </tr>\n",
       "    <tr>\n",
       "      <th>20532</th>\n",
       "      <td>UCgmPnx-EEeOrZSg5Tiw7ZRQ</td>\n",
       "      <td>mJwpVT1WvLg</td>\n",
       "      <td>《DEBUT STREAM》- LET'S GET THIS PARTY STARTED! ...</td>\n",
       "      <td>2021-08-23T00:12:40Z</td>\n",
       "      <td>PT1H7M17S</td>\n",
       "      <td>943130</td>\n",
       "      <td>2137</td>\n",
       "      <td>74402</td>\n",
       "      <td>337</td>\n",
       "    </tr>\n",
       "  </tbody>\n",
       "</table>\n",
       "<p>20533 rows × 9 columns</p>\n",
       "</div>"
      ],
      "text/plain": [
       "                     channel_id     video_id  \\\n",
       "0      UCp6993wxpyDPHUpavwDFqgg  KJdDlwzvDC8   \n",
       "1      UCp6993wxpyDPHUpavwDFqgg  9bOom2Gl704   \n",
       "2      UCp6993wxpyDPHUpavwDFqgg  I61tJJKVlnc   \n",
       "3      UCp6993wxpyDPHUpavwDFqgg  oMqH1n9tgPo   \n",
       "4      UCp6993wxpyDPHUpavwDFqgg  E2hTb2IUaNU   \n",
       "...                         ...          ...   \n",
       "20528  UCgmPnx-EEeOrZSg5Tiw7ZRQ  olB5J4PfXuc   \n",
       "20529  UCgmPnx-EEeOrZSg5Tiw7ZRQ  sfxIojed54Q   \n",
       "20530  UCgmPnx-EEeOrZSg5Tiw7ZRQ  W9rAtIytnHk   \n",
       "20531  UCgmPnx-EEeOrZSg5Tiw7ZRQ  7S9QhFeGw60   \n",
       "20532  UCgmPnx-EEeOrZSg5Tiw7ZRQ  mJwpVT1WvLg   \n",
       "\n",
       "                                                   title  \\\n",
       "0                  【あつ森】別荘がつくれる！？早速やっていかないと！！【#ときのそら生放送】   \n",
       "1              【Minecraft】運動会の練習だ！！！#2【#SorAZ/#ときのそら生放送】   \n",
       "2                 【#ときのそらガルパ配信中day2】ガルパホロライブカップ！いっぱい遊ぶぞ～   \n",
       "3      【重大発表】ときのそらTheatrical Cover Live『Role:Play』開催決...   \n",
       "4                     【歌枠】ハロウィンだし小物つけながら歌おうかな【＃ときのそら生放送】   \n",
       "...                                                  ...   \n",
       "20528  ≪空気読み１＋２＋３≫ 空気を読むネズミの子。GOOD RAT CAN READ ATMOS...   \n",
       "20529                《RAT SIMULATOR》- i am one true rat.   \n",
       "20530                        《CHIT-CHAT》- POST DEBUT Q&A   \n",
       "20531  【COUNCIL MEETING】The Council is in SESSION! + ...   \n",
       "20532  《DEBUT STREAM》- LET'S GET THIS PARTY STARTED! ...   \n",
       "\n",
       "             published_date    duration   views comments  likes dislikes  \n",
       "0      2021-11-07T04:47:18Z  PT2H35M21S   65130       23   8732       15  \n",
       "1      2021-11-04T15:21:35Z  PT1H39M23S  125476       51  11316        7  \n",
       "2      2021-11-03T13:13:40Z   PT1H1M35S   34988       44   5497        6  \n",
       "3      2021-11-01T12:06:13Z     PT1H15S   59297       58   8760        6  \n",
       "4      2021-10-31T07:35:14Z  PT1H30M11S   60865       81   9857        5  \n",
       "...                     ...         ...     ...      ...    ...      ...  \n",
       "20528  2021-08-26T14:38:47Z     PT2H25M  247523      176  22059       52  \n",
       "20529  2021-08-25T08:09:26Z   PT1H53M5S  378803      381  32785       59  \n",
       "20530  2021-08-23T11:59:25Z  PT1H22M44S  433954        9  33950       70  \n",
       "20531  2021-08-23T02:12:07Z      PT1H5M  789925     1470  48040      162  \n",
       "20532  2021-08-23T00:12:40Z   PT1H7M17S  943130     2137  74402      337  \n",
       "\n",
       "[20533 rows x 9 columns]"
      ]
     },
     "execution_count": 167,
     "metadata": {},
     "output_type": "execute_result"
    }
   ],
   "source": [
    "df_videos"
   ]
  },
  {
   "cell_type": "code",
   "execution_count": 168,
   "id": "4087b172",
   "metadata": {},
   "outputs": [
    {
     "data": {
      "text/plain": [
       "channel_id          0\n",
       "video_id            0\n",
       "title               0\n",
       "published_date      0\n",
       "duration            0\n",
       "views               0\n",
       "comments          125\n",
       "likes              14\n",
       "dislikes           14\n",
       "dtype: int64"
      ]
     },
     "execution_count": 168,
     "metadata": {},
     "output_type": "execute_result"
    }
   ],
   "source": [
    "df_videos.isna().sum()"
   ]
  },
  {
   "cell_type": "code",
   "execution_count": 169,
   "id": "a4391eec",
   "metadata": {},
   "outputs": [],
   "source": [
    "df_videos.to_csv('hololive_videos.csv', index=False)"
   ]
  },
  {
   "cell_type": "code",
   "execution_count": 170,
   "id": "27477814",
   "metadata": {},
   "outputs": [],
   "source": [
    "df_videos2 = pd.read_csv('hololive_videos.csv')"
   ]
  },
  {
   "cell_type": "code",
   "execution_count": 190,
   "id": "acf7ea45",
   "metadata": {},
   "outputs": [
    {
     "data": {
      "text/plain": [
       "channel_id                     object\n",
       "video_id                       object\n",
       "title                          object\n",
       "published_date    datetime64[ns, UTC]\n",
       "duration                       object\n",
       "views                           int64\n",
       "comments                      float64\n",
       "likes                         float64\n",
       "dislikes                      float64\n",
       "dtype: object"
      ]
     },
     "execution_count": 190,
     "metadata": {},
     "output_type": "execute_result"
    }
   ],
   "source": [
    "df_videos2.dtypes"
   ]
  },
  {
   "cell_type": "code",
   "execution_count": 181,
   "id": "36cf3d5f",
   "metadata": {},
   "outputs": [],
   "source": [
    "df_videos2['published_date'] = pd.to_datetime(df_videos2['published_date'])"
   ]
  },
  {
   "cell_type": "code",
   "execution_count": 191,
   "id": "73701843",
   "metadata": {},
   "outputs": [],
   "source": [
    "df_videos2.to_csv('hololive_videos.csv', index=False)"
   ]
  },
  {
   "cell_type": "markdown",
   "id": "22812647",
   "metadata": {},
   "source": [
    "### Most Watched Videos"
   ]
  },
  {
   "cell_type": "code",
   "execution_count": 183,
   "id": "87582aeb",
   "metadata": {
    "scrolled": true
   },
   "outputs": [
    {
     "data": {
      "text/html": [
       "<div>\n",
       "<style scoped>\n",
       "    .dataframe tbody tr th:only-of-type {\n",
       "        vertical-align: middle;\n",
       "    }\n",
       "\n",
       "    .dataframe tbody tr th {\n",
       "        vertical-align: top;\n",
       "    }\n",
       "\n",
       "    .dataframe thead th {\n",
       "        text-align: right;\n",
       "    }\n",
       "</style>\n",
       "<table border=\"1\" class=\"dataframe\">\n",
       "  <thead>\n",
       "    <tr style=\"text-align: right;\">\n",
       "      <th></th>\n",
       "      <th>channel_id</th>\n",
       "      <th>video_id</th>\n",
       "      <th>title</th>\n",
       "      <th>published_date</th>\n",
       "      <th>duration</th>\n",
       "      <th>views</th>\n",
       "      <th>comments</th>\n",
       "      <th>likes</th>\n",
       "      <th>dislikes</th>\n",
       "    </tr>\n",
       "  </thead>\n",
       "  <tbody>\n",
       "    <tr>\n",
       "      <th>18864</th>\n",
       "      <td>UCL_qhgtOy0dy1Agp8vkySQg</td>\n",
       "      <td>5y3xh8gs24c</td>\n",
       "      <td>[ORIGINAL SONG]  失礼しますが、RIP♡ || “Excuse My Rud...</td>\n",
       "      <td>2020-09-12 17:52:11+00:00</td>\n",
       "      <td>PT3M13S</td>\n",
       "      <td>26163473</td>\n",
       "      <td>22320.0</td>\n",
       "      <td>592988.0</td>\n",
       "      <td>4187.0</td>\n",
       "    </tr>\n",
       "  </tbody>\n",
       "</table>\n",
       "</div>"
      ],
      "text/plain": [
       "                     channel_id     video_id  \\\n",
       "18864  UCL_qhgtOy0dy1Agp8vkySQg  5y3xh8gs24c   \n",
       "\n",
       "                                                   title  \\\n",
       "18864  [ORIGINAL SONG]  失礼しますが、RIP♡ || “Excuse My Rud...   \n",
       "\n",
       "                 published_date duration     views  comments     likes  \\\n",
       "18864 2020-09-12 17:52:11+00:00  PT3M13S  26163473   22320.0  592988.0   \n",
       "\n",
       "       dislikes  \n",
       "18864    4187.0  "
      ]
     },
     "execution_count": 183,
     "metadata": {},
     "output_type": "execute_result"
    }
   ],
   "source": [
    "df_videos2.loc[df_videos2['views'] == df_videos2['views'].max()]"
   ]
  }
 ],
 "metadata": {
  "kernelspec": {
   "display_name": "Python 3",
   "language": "python",
   "name": "python3"
  },
  "language_info": {
   "codemirror_mode": {
    "name": "ipython",
    "version": 3
   },
   "file_extension": ".py",
   "mimetype": "text/x-python",
   "name": "python",
   "nbconvert_exporter": "python",
   "pygments_lexer": "ipython3",
   "version": "3.8.8"
  }
 },
 "nbformat": 4,
 "nbformat_minor": 5
}
